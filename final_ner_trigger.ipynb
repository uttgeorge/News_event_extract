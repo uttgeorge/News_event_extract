{
  "nbformat": 4,
  "nbformat_minor": 0,
  "metadata": {
    "colab": {
      "name": "final_ner_trigger.ipynb",
      "provenance": [],
      "collapsed_sections": []
    },
    "kernelspec": {
      "name": "python3",
      "display_name": "Python 3"
    },
    "accelerator": "GPU",
    "widgets": {
      "application/vnd.jupyter.widget-state+json": {
        "aaca41490c1f42f5a39f41fa2f967d03": {
          "model_module": "@jupyter-widgets/controls",
          "model_name": "HBoxModel",
          "state": {
            "_view_name": "HBoxView",
            "_dom_classes": [],
            "_model_name": "HBoxModel",
            "_view_module": "@jupyter-widgets/controls",
            "_model_module_version": "1.5.0",
            "_view_count": null,
            "_view_module_version": "1.5.0",
            "box_style": "",
            "layout": "IPY_MODEL_85df3bae3a2e45febfc7efa2a97e3906",
            "_model_module": "@jupyter-widgets/controls",
            "children": [
              "IPY_MODEL_b69e9255330f4a5e93933746747303b8",
              "IPY_MODEL_f761f174a91b4a2cbba3cbb72b016037"
            ]
          }
        },
        "85df3bae3a2e45febfc7efa2a97e3906": {
          "model_module": "@jupyter-widgets/base",
          "model_name": "LayoutModel",
          "state": {
            "_view_name": "LayoutView",
            "grid_template_rows": null,
            "right": null,
            "justify_content": null,
            "_view_module": "@jupyter-widgets/base",
            "overflow": null,
            "_model_module_version": "1.2.0",
            "_view_count": null,
            "flex_flow": null,
            "width": null,
            "min_width": null,
            "border": null,
            "align_items": null,
            "bottom": null,
            "_model_module": "@jupyter-widgets/base",
            "top": null,
            "grid_column": null,
            "overflow_y": null,
            "overflow_x": null,
            "grid_auto_flow": null,
            "grid_area": null,
            "grid_template_columns": null,
            "flex": null,
            "_model_name": "LayoutModel",
            "justify_items": null,
            "grid_row": null,
            "max_height": null,
            "align_content": null,
            "visibility": null,
            "align_self": null,
            "height": null,
            "min_height": null,
            "padding": null,
            "grid_auto_rows": null,
            "grid_gap": null,
            "max_width": null,
            "order": null,
            "_view_module_version": "1.2.0",
            "grid_template_areas": null,
            "object_position": null,
            "object_fit": null,
            "grid_auto_columns": null,
            "margin": null,
            "display": null,
            "left": null
          }
        },
        "b69e9255330f4a5e93933746747303b8": {
          "model_module": "@jupyter-widgets/controls",
          "model_name": "FloatProgressModel",
          "state": {
            "_view_name": "ProgressView",
            "style": "IPY_MODEL_90899c1bcfba4063b5fcfdb4a593546b",
            "_dom_classes": [],
            "description": "Downloading: 100%",
            "_model_name": "FloatProgressModel",
            "bar_style": "success",
            "max": 109540,
            "_view_module": "@jupyter-widgets/controls",
            "_model_module_version": "1.5.0",
            "value": 109540,
            "_view_count": null,
            "_view_module_version": "1.5.0",
            "orientation": "horizontal",
            "min": 0,
            "description_tooltip": null,
            "_model_module": "@jupyter-widgets/controls",
            "layout": "IPY_MODEL_b4af4ca565a743daae874c1da6548a1d"
          }
        },
        "f761f174a91b4a2cbba3cbb72b016037": {
          "model_module": "@jupyter-widgets/controls",
          "model_name": "HTMLModel",
          "state": {
            "_view_name": "HTMLView",
            "style": "IPY_MODEL_220b230643dc456a9aefb3e7d8ec3eb1",
            "_dom_classes": [],
            "description": "",
            "_model_name": "HTMLModel",
            "placeholder": "​",
            "_view_module": "@jupyter-widgets/controls",
            "_model_module_version": "1.5.0",
            "value": " 110k/110k [00:00&lt;00:00, 525kB/s]",
            "_view_count": null,
            "_view_module_version": "1.5.0",
            "description_tooltip": null,
            "_model_module": "@jupyter-widgets/controls",
            "layout": "IPY_MODEL_332e27c8b3d54c698805e8db037cf8b0"
          }
        },
        "90899c1bcfba4063b5fcfdb4a593546b": {
          "model_module": "@jupyter-widgets/controls",
          "model_name": "ProgressStyleModel",
          "state": {
            "_view_name": "StyleView",
            "_model_name": "ProgressStyleModel",
            "description_width": "initial",
            "_view_module": "@jupyter-widgets/base",
            "_model_module_version": "1.5.0",
            "_view_count": null,
            "_view_module_version": "1.2.0",
            "bar_color": null,
            "_model_module": "@jupyter-widgets/controls"
          }
        },
        "b4af4ca565a743daae874c1da6548a1d": {
          "model_module": "@jupyter-widgets/base",
          "model_name": "LayoutModel",
          "state": {
            "_view_name": "LayoutView",
            "grid_template_rows": null,
            "right": null,
            "justify_content": null,
            "_view_module": "@jupyter-widgets/base",
            "overflow": null,
            "_model_module_version": "1.2.0",
            "_view_count": null,
            "flex_flow": null,
            "width": null,
            "min_width": null,
            "border": null,
            "align_items": null,
            "bottom": null,
            "_model_module": "@jupyter-widgets/base",
            "top": null,
            "grid_column": null,
            "overflow_y": null,
            "overflow_x": null,
            "grid_auto_flow": null,
            "grid_area": null,
            "grid_template_columns": null,
            "flex": null,
            "_model_name": "LayoutModel",
            "justify_items": null,
            "grid_row": null,
            "max_height": null,
            "align_content": null,
            "visibility": null,
            "align_self": null,
            "height": null,
            "min_height": null,
            "padding": null,
            "grid_auto_rows": null,
            "grid_gap": null,
            "max_width": null,
            "order": null,
            "_view_module_version": "1.2.0",
            "grid_template_areas": null,
            "object_position": null,
            "object_fit": null,
            "grid_auto_columns": null,
            "margin": null,
            "display": null,
            "left": null
          }
        },
        "220b230643dc456a9aefb3e7d8ec3eb1": {
          "model_module": "@jupyter-widgets/controls",
          "model_name": "DescriptionStyleModel",
          "state": {
            "_view_name": "StyleView",
            "_model_name": "DescriptionStyleModel",
            "description_width": "",
            "_view_module": "@jupyter-widgets/base",
            "_model_module_version": "1.5.0",
            "_view_count": null,
            "_view_module_version": "1.2.0",
            "_model_module": "@jupyter-widgets/controls"
          }
        },
        "332e27c8b3d54c698805e8db037cf8b0": {
          "model_module": "@jupyter-widgets/base",
          "model_name": "LayoutModel",
          "state": {
            "_view_name": "LayoutView",
            "grid_template_rows": null,
            "right": null,
            "justify_content": null,
            "_view_module": "@jupyter-widgets/base",
            "overflow": null,
            "_model_module_version": "1.2.0",
            "_view_count": null,
            "flex_flow": null,
            "width": null,
            "min_width": null,
            "border": null,
            "align_items": null,
            "bottom": null,
            "_model_module": "@jupyter-widgets/base",
            "top": null,
            "grid_column": null,
            "overflow_y": null,
            "overflow_x": null,
            "grid_auto_flow": null,
            "grid_area": null,
            "grid_template_columns": null,
            "flex": null,
            "_model_name": "LayoutModel",
            "justify_items": null,
            "grid_row": null,
            "max_height": null,
            "align_content": null,
            "visibility": null,
            "align_self": null,
            "height": null,
            "min_height": null,
            "padding": null,
            "grid_auto_rows": null,
            "grid_gap": null,
            "max_width": null,
            "order": null,
            "_view_module_version": "1.2.0",
            "grid_template_areas": null,
            "object_position": null,
            "object_fit": null,
            "grid_auto_columns": null,
            "margin": null,
            "display": null,
            "left": null
          }
        }
      }
    }
  },
  "cells": [
    {
      "cell_type": "markdown",
      "metadata": {
        "id": "3oWTNXXerUlV"
      },
      "source": [
        "# News event detection project part 1\n",
        "## Trigger detection\n",
        "\n"
      ]
    },
    {
      "cell_type": "code",
      "metadata": {
        "id": "HJn727OO1lsv",
        "outputId": "9f34f1e4-e84c-40bb-f239-d2b1f2b8fde1",
        "colab": {
          "base_uri": "https://localhost:8080/",
          "height": 34
        }
      },
      "source": [
        "from google.colab import drive\n",
        "drive.mount('/content/gdrive')\n"
      ],
      "execution_count": null,
      "outputs": [
        {
          "output_type": "stream",
          "text": [
            "Mounted at /content/gdrive\n"
          ],
          "name": "stdout"
        }
      ]
    },
    {
      "cell_type": "code",
      "metadata": {
        "id": "TCj4ySFT1vyJ"
      },
      "source": [
        "import pandas as pd\n",
        "df = pd.read_csv(\"/content/gdrive/My Drive/ner dataset/ner_dataset.csv\", encoding=\"latin-1\")"
      ],
      "execution_count": null,
      "outputs": []
    },
    {
      "cell_type": "code",
      "metadata": {
        "id": "bZQXefwl2Wka",
        "outputId": "adeba785-52c6-4979-b710-93e36b3ab1bc",
        "colab": {
          "base_uri": "https://localhost:8080/",
          "height": 204
        }
      },
      "source": [
        "df.head()"
      ],
      "execution_count": null,
      "outputs": [
        {
          "output_type": "execute_result",
          "data": {
            "text/html": [
              "<div>\n",
              "<style scoped>\n",
              "    .dataframe tbody tr th:only-of-type {\n",
              "        vertical-align: middle;\n",
              "    }\n",
              "\n",
              "    .dataframe tbody tr th {\n",
              "        vertical-align: top;\n",
              "    }\n",
              "\n",
              "    .dataframe thead th {\n",
              "        text-align: right;\n",
              "    }\n",
              "</style>\n",
              "<table border=\"1\" class=\"dataframe\">\n",
              "  <thead>\n",
              "    <tr style=\"text-align: right;\">\n",
              "      <th></th>\n",
              "      <th>Sentence #</th>\n",
              "      <th>Word</th>\n",
              "      <th>POS</th>\n",
              "      <th>Tag</th>\n",
              "    </tr>\n",
              "  </thead>\n",
              "  <tbody>\n",
              "    <tr>\n",
              "      <th>0</th>\n",
              "      <td>Sentence: 1</td>\n",
              "      <td>Thousands</td>\n",
              "      <td>NNS</td>\n",
              "      <td>O</td>\n",
              "    </tr>\n",
              "    <tr>\n",
              "      <th>1</th>\n",
              "      <td>NaN</td>\n",
              "      <td>of</td>\n",
              "      <td>IN</td>\n",
              "      <td>O</td>\n",
              "    </tr>\n",
              "    <tr>\n",
              "      <th>2</th>\n",
              "      <td>NaN</td>\n",
              "      <td>demonstrators</td>\n",
              "      <td>NNS</td>\n",
              "      <td>O</td>\n",
              "    </tr>\n",
              "    <tr>\n",
              "      <th>3</th>\n",
              "      <td>NaN</td>\n",
              "      <td>have</td>\n",
              "      <td>VBP</td>\n",
              "      <td>O</td>\n",
              "    </tr>\n",
              "    <tr>\n",
              "      <th>4</th>\n",
              "      <td>NaN</td>\n",
              "      <td>marched</td>\n",
              "      <td>VBN</td>\n",
              "      <td>O</td>\n",
              "    </tr>\n",
              "  </tbody>\n",
              "</table>\n",
              "</div>"
            ],
            "text/plain": [
              "    Sentence #           Word  POS Tag\n",
              "0  Sentence: 1      Thousands  NNS   O\n",
              "1          NaN             of   IN   O\n",
              "2          NaN  demonstrators  NNS   O\n",
              "3          NaN           have  VBP   O\n",
              "4          NaN        marched  VBN   O"
            ]
          },
          "metadata": {
            "tags": []
          },
          "execution_count": 10
        }
      ]
    },
    {
      "cell_type": "code",
      "metadata": {
        "id": "U3mAIQJN2WnU",
        "outputId": "5d06f52b-319e-4bb8-86eb-2e94eb6b14c5",
        "colab": {
          "base_uri": "https://localhost:8080/",
          "height": 136
        }
      },
      "source": [
        "!pip install pkuseg"
      ],
      "execution_count": null,
      "outputs": [
        {
          "output_type": "stream",
          "text": [
            "Collecting pkuseg\n",
            "\u001b[?25l  Downloading https://files.pythonhosted.org/packages/ed/68/2dfaa18f86df4cf38a90ef024e18b36d06603ebc992a2dcc16f83b00b80d/pkuseg-0.0.25-cp36-cp36m-manylinux1_x86_64.whl (50.2MB)\n",
            "\u001b[K     |████████████████████████████████| 50.2MB 61kB/s \n",
            "\u001b[?25hRequirement already satisfied: numpy>=1.16.0 in /usr/local/lib/python3.6/dist-packages (from pkuseg) (1.18.5)\n",
            "Requirement already satisfied: cython in /usr/local/lib/python3.6/dist-packages (from pkuseg) (0.29.21)\n",
            "Installing collected packages: pkuseg\n",
            "Successfully installed pkuseg-0.0.25\n"
          ],
          "name": "stdout"
        }
      ]
    },
    {
      "cell_type": "code",
      "metadata": {
        "id": "V7hdoXtW2WqU"
      },
      "source": [
        "# !pip install "
      ],
      "execution_count": null,
      "outputs": []
    },
    {
      "cell_type": "code",
      "metadata": {
        "id": "eMQm1G372WtF",
        "outputId": "dd67775b-dac9-44cf-8e2f-22aad53640f6",
        "colab": {
          "base_uri": "https://localhost:8080/",
          "height": 595
        }
      },
      "source": [
        "!pip install transformers"
      ],
      "execution_count": null,
      "outputs": [
        {
          "output_type": "stream",
          "text": [
            "Collecting transformers\n",
            "\u001b[?25l  Downloading https://files.pythonhosted.org/packages/27/3c/91ed8f5c4e7ef3227b4119200fc0ed4b4fd965b1f0172021c25701087825/transformers-3.0.2-py3-none-any.whl (769kB)\n",
            "\r\u001b[K     |▍                               | 10kB 22.8MB/s eta 0:00:01\r\u001b[K     |▉                               | 20kB 3.5MB/s eta 0:00:01\r\u001b[K     |█▎                              | 30kB 4.8MB/s eta 0:00:01\r\u001b[K     |█▊                              | 40kB 5.1MB/s eta 0:00:01\r\u001b[K     |██▏                             | 51kB 4.1MB/s eta 0:00:01\r\u001b[K     |██▋                             | 61kB 4.6MB/s eta 0:00:01\r\u001b[K     |███                             | 71kB 5.0MB/s eta 0:00:01\r\u001b[K     |███▍                            | 81kB 5.4MB/s eta 0:00:01\r\u001b[K     |███▉                            | 92kB 5.7MB/s eta 0:00:01\r\u001b[K     |████▎                           | 102kB 5.5MB/s eta 0:00:01\r\u001b[K     |████▊                           | 112kB 5.5MB/s eta 0:00:01\r\u001b[K     |█████▏                          | 122kB 5.5MB/s eta 0:00:01\r\u001b[K     |█████▌                          | 133kB 5.5MB/s eta 0:00:01\r\u001b[K     |██████                          | 143kB 5.5MB/s eta 0:00:01\r\u001b[K     |██████▍                         | 153kB 5.5MB/s eta 0:00:01\r\u001b[K     |██████▉                         | 163kB 5.5MB/s eta 0:00:01\r\u001b[K     |███████▎                        | 174kB 5.5MB/s eta 0:00:01\r\u001b[K     |███████▊                        | 184kB 5.5MB/s eta 0:00:01\r\u001b[K     |████████                        | 194kB 5.5MB/s eta 0:00:01\r\u001b[K     |████████▌                       | 204kB 5.5MB/s eta 0:00:01\r\u001b[K     |█████████                       | 215kB 5.5MB/s eta 0:00:01\r\u001b[K     |█████████▍                      | 225kB 5.5MB/s eta 0:00:01\r\u001b[K     |█████████▉                      | 235kB 5.5MB/s eta 0:00:01\r\u001b[K     |██████████▎                     | 245kB 5.5MB/s eta 0:00:01\r\u001b[K     |██████████▋                     | 256kB 5.5MB/s eta 0:00:01\r\u001b[K     |███████████                     | 266kB 5.5MB/s eta 0:00:01\r\u001b[K     |███████████▌                    | 276kB 5.5MB/s eta 0:00:01\r\u001b[K     |████████████                    | 286kB 5.5MB/s eta 0:00:01\r\u001b[K     |████████████▍                   | 296kB 5.5MB/s eta 0:00:01\r\u001b[K     |████████████▉                   | 307kB 5.5MB/s eta 0:00:01\r\u001b[K     |█████████████▏                  | 317kB 5.5MB/s eta 0:00:01\r\u001b[K     |█████████████▋                  | 327kB 5.5MB/s eta 0:00:01\r\u001b[K     |██████████████                  | 337kB 5.5MB/s eta 0:00:01\r\u001b[K     |██████████████▌                 | 348kB 5.5MB/s eta 0:00:01\r\u001b[K     |███████████████                 | 358kB 5.5MB/s eta 0:00:01\r\u001b[K     |███████████████▍                | 368kB 5.5MB/s eta 0:00:01\r\u001b[K     |███████████████▊                | 378kB 5.5MB/s eta 0:00:01\r\u001b[K     |████████████████▏               | 389kB 5.5MB/s eta 0:00:01\r\u001b[K     |████████████████▋               | 399kB 5.5MB/s eta 0:00:01\r\u001b[K     |█████████████████               | 409kB 5.5MB/s eta 0:00:01\r\u001b[K     |█████████████████▌              | 419kB 5.5MB/s eta 0:00:01\r\u001b[K     |██████████████████              | 430kB 5.5MB/s eta 0:00:01\r\u001b[K     |██████████████████▎             | 440kB 5.5MB/s eta 0:00:01\r\u001b[K     |██████████████████▊             | 450kB 5.5MB/s eta 0:00:01\r\u001b[K     |███████████████████▏            | 460kB 5.5MB/s eta 0:00:01\r\u001b[K     |███████████████████▋            | 471kB 5.5MB/s eta 0:00:01\r\u001b[K     |████████████████████            | 481kB 5.5MB/s eta 0:00:01\r\u001b[K     |████████████████████▌           | 491kB 5.5MB/s eta 0:00:01\r\u001b[K     |████████████████████▉           | 501kB 5.5MB/s eta 0:00:01\r\u001b[K     |█████████████████████▎          | 512kB 5.5MB/s eta 0:00:01\r\u001b[K     |█████████████████████▊          | 522kB 5.5MB/s eta 0:00:01\r\u001b[K     |██████████████████████▏         | 532kB 5.5MB/s eta 0:00:01\r\u001b[K     |██████████████████████▋         | 542kB 5.5MB/s eta 0:00:01\r\u001b[K     |███████████████████████         | 552kB 5.5MB/s eta 0:00:01\r\u001b[K     |███████████████████████▍        | 563kB 5.5MB/s eta 0:00:01\r\u001b[K     |███████████████████████▉        | 573kB 5.5MB/s eta 0:00:01\r\u001b[K     |████████████████████████▎       | 583kB 5.5MB/s eta 0:00:01\r\u001b[K     |████████████████████████▊       | 593kB 5.5MB/s eta 0:00:01\r\u001b[K     |█████████████████████████▏      | 604kB 5.5MB/s eta 0:00:01\r\u001b[K     |█████████████████████████▋      | 614kB 5.5MB/s eta 0:00:01\r\u001b[K     |██████████████████████████      | 624kB 5.5MB/s eta 0:00:01\r\u001b[K     |██████████████████████████▍     | 634kB 5.5MB/s eta 0:00:01\r\u001b[K     |██████████████████████████▉     | 645kB 5.5MB/s eta 0:00:01\r\u001b[K     |███████████████████████████▎    | 655kB 5.5MB/s eta 0:00:01\r\u001b[K     |███████████████████████████▊    | 665kB 5.5MB/s eta 0:00:01\r\u001b[K     |████████████████████████████▏   | 675kB 5.5MB/s eta 0:00:01\r\u001b[K     |████████████████████████████▌   | 686kB 5.5MB/s eta 0:00:01\r\u001b[K     |█████████████████████████████   | 696kB 5.5MB/s eta 0:00:01\r\u001b[K     |█████████████████████████████▍  | 706kB 5.5MB/s eta 0:00:01\r\u001b[K     |█████████████████████████████▉  | 716kB 5.5MB/s eta 0:00:01\r\u001b[K     |██████████████████████████████▎ | 727kB 5.5MB/s eta 0:00:01\r\u001b[K     |██████████████████████████████▊ | 737kB 5.5MB/s eta 0:00:01\r\u001b[K     |███████████████████████████████ | 747kB 5.5MB/s eta 0:00:01\r\u001b[K     |███████████████████████████████▌| 757kB 5.5MB/s eta 0:00:01\r\u001b[K     |████████████████████████████████| 768kB 5.5MB/s eta 0:00:01\r\u001b[K     |████████████████████████████████| 778kB 5.5MB/s \n",
            "\u001b[?25hRequirement already satisfied: tqdm>=4.27 in /usr/local/lib/python3.6/dist-packages (from transformers) (4.41.1)\n",
            "Collecting tokenizers==0.8.1.rc1\n",
            "\u001b[?25l  Downloading https://files.pythonhosted.org/packages/40/d0/30d5f8d221a0ed981a186c8eb986ce1c94e3a6e87f994eae9f4aa5250217/tokenizers-0.8.1rc1-cp36-cp36m-manylinux1_x86_64.whl (3.0MB)\n",
            "\u001b[K     |████████████████████████████████| 3.0MB 34.4MB/s \n",
            "\u001b[?25hCollecting sentencepiece!=0.1.92\n",
            "\u001b[?25l  Downloading https://files.pythonhosted.org/packages/d4/a4/d0a884c4300004a78cca907a6ff9a5e9fe4f090f5d95ab341c53d28cbc58/sentencepiece-0.1.91-cp36-cp36m-manylinux1_x86_64.whl (1.1MB)\n",
            "\u001b[K     |████████████████████████████████| 1.1MB 14.2MB/s \n",
            "\u001b[?25hRequirement already satisfied: dataclasses; python_version < \"3.7\" in /usr/local/lib/python3.6/dist-packages (from transformers) (0.7)\n",
            "Collecting sacremoses\n",
            "\u001b[?25l  Downloading https://files.pythonhosted.org/packages/7d/34/09d19aff26edcc8eb2a01bed8e98f13a1537005d31e95233fd48216eed10/sacremoses-0.0.43.tar.gz (883kB)\n",
            "\u001b[K     |████████████████████████████████| 890kB 47.7MB/s \n",
            "\u001b[?25hRequirement already satisfied: filelock in /usr/local/lib/python3.6/dist-packages (from transformers) (3.0.12)\n",
            "Requirement already satisfied: numpy in /usr/local/lib/python3.6/dist-packages (from transformers) (1.18.5)\n",
            "Requirement already satisfied: regex!=2019.12.17 in /usr/local/lib/python3.6/dist-packages (from transformers) (2019.12.20)\n",
            "Requirement already satisfied: packaging in /usr/local/lib/python3.6/dist-packages (from transformers) (20.4)\n",
            "Requirement already satisfied: requests in /usr/local/lib/python3.6/dist-packages (from transformers) (2.23.0)\n",
            "Requirement already satisfied: six in /usr/local/lib/python3.6/dist-packages (from sacremoses->transformers) (1.15.0)\n",
            "Requirement already satisfied: click in /usr/local/lib/python3.6/dist-packages (from sacremoses->transformers) (7.1.2)\n",
            "Requirement already satisfied: joblib in /usr/local/lib/python3.6/dist-packages (from sacremoses->transformers) (0.16.0)\n",
            "Requirement already satisfied: pyparsing>=2.0.2 in /usr/local/lib/python3.6/dist-packages (from packaging->transformers) (2.4.7)\n",
            "Requirement already satisfied: certifi>=2017.4.17 in /usr/local/lib/python3.6/dist-packages (from requests->transformers) (2020.6.20)\n",
            "Requirement already satisfied: idna<3,>=2.5 in /usr/local/lib/python3.6/dist-packages (from requests->transformers) (2.10)\n",
            "Requirement already satisfied: urllib3!=1.25.0,!=1.25.1,<1.26,>=1.21.1 in /usr/local/lib/python3.6/dist-packages (from requests->transformers) (1.24.3)\n",
            "Requirement already satisfied: chardet<4,>=3.0.2 in /usr/local/lib/python3.6/dist-packages (from requests->transformers) (3.0.4)\n",
            "Building wheels for collected packages: sacremoses\n",
            "  Building wheel for sacremoses (setup.py) ... \u001b[?25l\u001b[?25hdone\n",
            "  Created wheel for sacremoses: filename=sacremoses-0.0.43-cp36-none-any.whl size=893260 sha256=85fbc4d617fd94106c4616714e256aa5d699ed398747545c86754deebae1b8fa\n",
            "  Stored in directory: /root/.cache/pip/wheels/29/3c/fd/7ce5c3f0666dab31a50123635e6fb5e19ceb42ce38d4e58f45\n",
            "Successfully built sacremoses\n",
            "Installing collected packages: tokenizers, sentencepiece, sacremoses, transformers\n",
            "Successfully installed sacremoses-0.0.43 sentencepiece-0.1.91 tokenizers-0.8.1rc1 transformers-3.0.2\n"
          ],
          "name": "stdout"
        }
      ]
    },
    {
      "cell_type": "code",
      "metadata": {
        "id": "kpBBte2218Jb",
        "outputId": "19e62a29-6794-45d7-85df-2b90ed8eb423",
        "colab": {
          "base_uri": "https://localhost:8080/",
          "height": 66,
          "referenced_widgets": [
            "aaca41490c1f42f5a39f41fa2f967d03",
            "85df3bae3a2e45febfc7efa2a97e3906",
            "b69e9255330f4a5e93933746747303b8",
            "f761f174a91b4a2cbba3cbb72b016037",
            "90899c1bcfba4063b5fcfdb4a593546b",
            "b4af4ca565a743daae874c1da6548a1d",
            "220b230643dc456a9aefb3e7d8ec3eb1",
            "332e27c8b3d54c698805e8db037cf8b0"
          ]
        }
      },
      "source": [
        "import transformers\n",
        "\n",
        "MAX_LEN = 128\n",
        "TRAIN_BATCH_SIZE = 32\n",
        "VALID_BATCH_SIZE = 8\n",
        "EPOCHS = 5\n",
        "BASE_MODEL_PATH = \"bert-base-chinese\"\n",
        "MODEL_PATH = \"ner_model.bin\"\n",
        "TRAINING_FILE = '/content/gdrive/My Drive/事件抽取挑战赛_事件抽取初赛数据/事件抽取挑战赛_事件抽取初赛数据/train/train.csv'\n",
        "TOKENIZER = transformers.BertTokenizer.from_pretrained(\n",
        "    BASE_MODEL_PATH,\n",
        "    do_lower_case=True\n",
        ")"
      ],
      "execution_count": null,
      "outputs": [
        {
          "output_type": "display_data",
          "data": {
            "application/vnd.jupyter.widget-view+json": {
              "model_id": "aaca41490c1f42f5a39f41fa2f967d03",
              "version_minor": 0,
              "version_major": 2
            },
            "text/plain": [
              "HBox(children=(FloatProgress(value=0.0, description='Downloading', max=109540.0, style=ProgressStyle(descripti…"
            ]
          },
          "metadata": {
            "tags": []
          }
        },
        {
          "output_type": "stream",
          "text": [
            "\n"
          ],
          "name": "stdout"
        }
      ]
    },
    {
      "cell_type": "code",
      "metadata": {
        "id": "K-HUzw-O2fvW",
        "outputId": "9fb7f0e8-4bd8-44ab-a04a-47949d8628c1",
        "colab": {
          "base_uri": "https://localhost:8080/",
          "height": 51
        }
      },
      "source": [
        "import pandas as pd\n",
        "import numpy as np\n",
        "import pkuseg\n",
        "\n",
        "from sklearn import preprocessing\n",
        "from collections import defaultdict\n",
        "\n",
        "def re_order(data):\n",
        "    \"\"\"\n",
        "    Reset id of each sentence, make duplicated sentences have a single id.\n",
        "    :param data: pd.dataframe\n",
        "    :return: none\n",
        "    \"\"\"\n",
        "    data.reset_index()\n",
        "    i = j = 0\n",
        "    while i < len(data):\n",
        "        if data['news'].duplicated()[i]:\n",
        "            i += 1\n",
        "        else:\n",
        "            i += 1\n",
        "            j = data['id']\n",
        "        data['id'] = j\n",
        "\n",
        "def merge_text(data):\n",
        "    \"\"\"\n",
        "    Merge same sentence into one row, save different triggers/objects/subjects/times/locations into lists correspondingly\n",
        "    :param data: pd.dataframe\n",
        "    :return: a nested dictionary\n",
        "    \"\"\"\n",
        "    dict = defaultdict(lambda: defaultdict())\n",
        "    for ind, row in data.iterrows():\n",
        "        if row['id'] not in dict:\n",
        "            dict[row['id']]['news'] = row['news']\n",
        "            dict[row['id']]['trigger'] = [row['trigger']]\n",
        "            dict[row['id']]['object'] = [row['object']]\n",
        "            dict[row['id']]['subject'] = [row['subject']]\n",
        "            if not pd.isnull(row['time']):\n",
        "                dict[row['id']]['time'] = [row['time']]\n",
        "            else:\n",
        "                dict[row['id']]['time'] = ['NaN']\n",
        "            if not pd.isnull(row['location']):\n",
        "                dict[row['id']]['location'] = [row['location']]\n",
        "            else:\n",
        "                dict[row['id']]['location'] = ['NaN']\n",
        "        else:\n",
        "            if row['trigger'] not in dict[row['id']]['trigger']:\n",
        "                dict[row['id']]['trigger'].append(row['trigger'])\n",
        "            if row['object'] not in dict[row['id']]['object']:\n",
        "                dict[row['id']]['object'].append(row['object'])\n",
        "            if row['subject'] not in dict[row['id']]['subject']:\n",
        "                dict[row['id']]['subject'].append(row['subject'])\n",
        "            if not pd.isnull(row['time']):\n",
        "                if row['time'] not in dict[row['id']]['time']:\n",
        "                    dict[row['id']]['time'].append(row['time'])\n",
        "            if not pd.isnull(row['location']):\n",
        "                if row['location'] not in dict[row['id']]['location']:\n",
        "                    dict[row['id']]['location'].append(row['location'])\n",
        "    return dict\n",
        "\n",
        "\n",
        "def label_text(dict):\n",
        "    \"\"\"\n",
        "    Labeling each phrase or word follows BOI rule. There are 11 different labels:\n",
        "    1. B-trigger, I-trigger\n",
        "    2. B-object, I-object\n",
        "    3. B-subject, I-subject\n",
        "    4. B-location, I-location\n",
        "    5. B-time, I-time\n",
        "    6. O: Else\n",
        "    :param d: dictionary of full dataset\n",
        "    :return: label sequence\n",
        "    \"\"\"\n",
        "    TotalLabels = []\n",
        "    #     print(d.keys())\n",
        "    for ind, key in enumerate(dict.keys()):\n",
        "        #         print(key)\n",
        "        text = dict[key]['news']\n",
        "        #         print(text)\n",
        "        labels = ['O' for word in text]\n",
        "        try:\n",
        "            # find start location of trigger\n",
        "            for trigger in dict[key]['trigger']:\n",
        "                start = text.find(trigger)\n",
        "                if start == -1:\n",
        "                    continue\n",
        "                labels[start] = 'B-trigger'\n",
        "                for loc in range(start + 1, start + len(trigger)):\n",
        "                    labels[loc] = 'I-trigger'\n",
        "        except:\n",
        "            pass\n",
        "        try:\n",
        "            # find start location of object\n",
        "            for obj in dict[key]['object']:\n",
        "                start = text.find(obj)\n",
        "                if start == -1:\n",
        "                    continue\n",
        "                labels[start] = 'B-object'\n",
        "                for loc in range(start + 1, start + len(obj)):\n",
        "                    labels[loc] = 'I-object'\n",
        "        except:\n",
        "            pass\n",
        "        try:\n",
        "            # find start location of subject\n",
        "            for subject in dict[key]['subject']:\n",
        "                start = text.find(subject)\n",
        "                if start == -1:\n",
        "                    continue\n",
        "                labels[start] = 'B-subject'\n",
        "                for loc in range(start + 1, start + len(subject)):\n",
        "                    labels[loc] = 'I-subject'\n",
        "        except:\n",
        "            pass\n",
        "        try:\n",
        "            # find start location of time\n",
        "            for time in dict[key]['time']:\n",
        "                start = text.find(time)\n",
        "                if start == -1:\n",
        "                    continue\n",
        "                labels[start] = 'B-time'\n",
        "                for loc in range(start + 1, start + len(time)):\n",
        "                    labels[loc] = 'I-time'\n",
        "        except:\n",
        "            pass\n",
        "\n",
        "        try:\n",
        "            # find start location of location\n",
        "            for location in dict[key]['location']:\n",
        "                start = text.find(location)\n",
        "                if start == -1:\n",
        "                    continue\n",
        "                labels[start] = 'B-location'\n",
        "                for loc in range(start + 1, start + len(location)):\n",
        "                    labels[loc] = 'I-location'\n",
        "        except:\n",
        "            pass\n",
        "        TotalLabels.append(labels)\n",
        "\n",
        "    return TotalLabels\n",
        "\n",
        "\n",
        "def word_segment(dic, TotalLabels):\n",
        "    \"\"\"\n",
        "    Segment sentences into words by using pkuseg.\n",
        "    Then on character level:\n",
        "    Label each char with its boundaries within a word by BMES. B stands for begin, M middle, E end, S single.\n",
        "    Label each char with its POS tags\n",
        "    Lable each char with its Labels from Total Labels\n",
        "    Return a list combine characters, BMES, POS, Labels\n",
        "    :param df: dataset dictionary, TotalLabels\n",
        "    :return: List\n",
        "    \"\"\"\n",
        "    #     # Load Stop words list from Harbin Institution of Technology\n",
        "    #     with open(stop_words_path, encoding='UTF-8') as f:\n",
        "    #         stopWordsList = f.read().splitlines()\n",
        "    #     f.close()\n",
        "\n",
        "    pos_tags = []\n",
        "    bounds = []\n",
        "    text = []\n",
        "    dataset = []\n",
        "\n",
        "    seg = pkuseg.pkuseg(postag=True)\n",
        "\n",
        "    for ind, key in enumerate(dic.keys()):\n",
        "\n",
        "        #         print('word segment No.{}'.format(ind))\n",
        "\n",
        "        boundaries = ['M' for word in dic[key]['news']]\n",
        "        sent = [word for word in dic[key]['news']]\n",
        "        tags = []\n",
        "\n",
        "        #         for word, tag in pseg.cut(d[key]['news']):\n",
        "        for word, tag in seg.cut(dic[key]['news']):\n",
        "\n",
        "            if len(word) == 1:\n",
        "                start = len(tags)\n",
        "                boundaries[start] = 'S'\n",
        "                tags.append(tag)\n",
        "            else:\n",
        "                start = len(tags)\n",
        "                boundaries[start] = 'B'\n",
        "                tags += [tag] * len(word)\n",
        "                end = len(tags) - 1\n",
        "                boundaries[end] = 'E'\n",
        "\n",
        "        pos_tags.append(tags)\n",
        "        bounds.append(boundaries)\n",
        "        text.append(sent)\n",
        "\n",
        "        dataset.append(list(zip(*[sent, tags, boundaries, TotalLabels[ind]])))\n",
        "\n",
        "    return dataset\n",
        "\n",
        "\n",
        "\n",
        "def process_data(data_path):\n",
        "    df = pd.read_csv(data_path, encoding='utf-8')\n",
        "    # df['Sentence #'] = df['Sentence #'].fillna(method='ffill')\n",
        "    re_order(df)\n",
        "    d = merge_text(df)\n",
        "    TotalLabels = label_text(d)\n",
        "    data = word_segment(d, TotalLabels)\n",
        "\n",
        "    SentenceNum = []\n",
        "    Word = []\n",
        "    POS = []\n",
        "    BEMS = []\n",
        "    Tag = []\n",
        "    for idx, item in enumerate(data):\n",
        "        for i in item:\n",
        "            SentenceNum.append(idx)\n",
        "            Word.append(i[0])\n",
        "            POS.append(i[1])\n",
        "            BEMS.append(i[2])\n",
        "            Tag.append(i[3])\n",
        "\n",
        "    df = pd.DataFrame(list(zip(*[SentenceNum, Word, POS, BEMS, Tag])),\n",
        "                      columns=['Sentence #', 'Word', 'POS', 'BEMS', 'Tag'])\n",
        "\n",
        "    enc_pos = preprocessing.LabelEncoder()\n",
        "    enc_bems = preprocessing.LabelEncoder()\n",
        "    enc_tag = preprocessing.LabelEncoder()\n",
        "\n",
        "    df['POS'] = enc_pos.fit_transform(df['POS'])\n",
        "    # print(df['POS'])\n",
        "    df['BEMS'] = enc_bems.fit_transform(df['BEMS'])\n",
        "    df['Tag'] = enc_tag.fit_transform(df['Tag'])\n",
        "\n",
        "    sentences = df.groupby('Sentence #')['Word'].apply(list).values\n",
        "    pos = df.groupby('Sentence #')['POS'].apply(list).values\n",
        "    bems = df.groupby('Sentence #')['BEMS'].apply(list).values\n",
        "    tag = df.groupby('Sentence #')['Tag'].apply(list).values\n",
        "\n",
        "    return sentences, pos, bems, tag, enc_pos, enc_bems, enc_tag\n",
        "\n",
        "sentences, pos, bems, tag, enc_pos, enc_bems, enc_tag = process_data(TRAINING_FILE)\n"
      ],
      "execution_count": null,
      "outputs": [
        {
          "output_type": "stream",
          "text": [
            "Downloading: \"https://github.com/lancopku/pkuseg-python/releases/download/v0.0.16/postag.zip\" to /root/.pkuseg/postag.zip\n",
            "100%|██████████| 41424981/41424981 [00:01<00:00, 26777338.29it/s]\n"
          ],
          "name": "stderr"
        }
      ]
    },
    {
      "cell_type": "code",
      "metadata": {
        "id": "hrrIAj3ojSM_",
        "outputId": "1150acd4-9ded-4d4d-a32f-21a40a2713fe",
        "colab": {
          "base_uri": "https://localhost:8080/",
          "height": 462
        }
      },
      "source": [
        "print(sentences, pos, bems, tag, enc_pos, enc_bems, enc_tag)"
      ],
      "execution_count": null,
      "outputs": [
        {
          "output_type": "stream",
          "text": [
            "[list(['新', '华', '社', '北', '京', '4', '月', '7', '日', '电', '（', '记', '者', '王', '优', '玲', '）', '人', '力', '资', '源', '社', '会', '保', '障', '部', '7', '日', '启', '动', '第', '七', '届', '大', '中', '城', '市', '联', '合', '招', '聘', '高', '校', '毕', '业', '生', '春', '季', '专', '场', '活', '动'])\n",
            " list(['活', '动', '针', '对', '高', '校', '毕', '业', '生', '特', '点', '和', '需', '求', '，', '集', '中', '归', '集', '发', '布', '一', '批', '适', '合', '高', '校', '毕', '业', '生', '的', '就', '业', '岗', '位', '，', '并', '鼓', '励', '引', '导', '供', '需', '双', '方', '应', '用', '高', '校', '毕', '业', '生', '精', '准', '招', '聘', '平', '台', '精', '准', '匹', '配', '对', '接'])\n",
            " list(['图', '集', '4', '月', '8', '日', '，', '三', '大', '运', '营', '商', '中', '国', '移', '动', '、', '中', '国', '电', '信', '和', '中', '国', '联', '通', '将', '联', '合', '举', '行', '线', '上', '发', '布', '会', '，', '发', '布', '5', 'G', '消', '息', '白', '皮', '书', '，', '携', '手', '生', '态', '合', '作', '伙', '伴', '，', '一', '起', '开', '启', '5', 'G', '消', '息', '业', '务', '全', '新', '篇', '章'])\n",
            " ...\n",
            " list(['星', '岛', '环', '球', '网', '消', '息', '：', '中', '新', '网', '4', '月', '8', '日', '电', '据', '广', '州', '市', '公', '安', '局', '官', '方', '微', '博', '消', '息', '，', '广', '州', '白', '云', '警', '方', '4', '月', '8', '日', '通', '报', '：', '经', '过', '缜', '密', '调', '查', '，', '白', '云', '警', '方', '于', '4', '月', '7', '日', '凌', '晨', '4', '时', '许', '抓', '获', '涉', '嫌', '在', '社', '交', '网', '络', '上', '发', '布', '淫', '秽', '信', '息', '的', '犯', '罪', '嫌', '疑', '人', '高', '某', '(', '男', '，', '2', '4', '岁', ')'])\n",
            " list(['4', '月', '8', '日', '零', '时', '起', '，', '深', '航', '除', '恢', '复', '武', '汉', '往', '返', '深', '圳', '的', '航', '班', '外', '，', '还', '同', '时', '恢', '复', '了', '武', '汉', '往', '返', '呼', '和', '浩', '特', '、', '泉', '州', '、', '沈', '阳', '、', '南', '宁', '、', '兰', '州', '航', '班'])\n",
            " list(['张', '女', '士', '告', '诉', '记', '者', '，', '1', '月', '2', '2', '日', '，', '张', '女', '士', '带', '着', '父', '母', '和', '女', '儿', '来', '深', '圳', '过', '年', '，', '谁', '知', '一', '待', '就', '是', '7', '0', '多', '天'])] [list([16, 16, 16, 15, 15, 23, 23, 23, 23, 13, 29, 13, 13, 14, 14, 14, 29, 13, 13, 13, 13, 13, 13, 13, 13, 13, 13, 13, 25, 25, 12, 12, 20, 9, 9, 9, 9, 25, 25, 25, 25, 9, 9, 13, 13, 13, 23, 23, 13, 13, 27, 27])\n",
            " list([27, 27, 19, 19, 9, 9, 13, 13, 13, 13, 13, 4, 13, 13, 29, 1, 1, 25, 25, 25, 25, 12, 12, 25, 25, 9, 9, 13, 13, 13, 24, 27, 27, 13, 13, 29, 4, 25, 25, 25, 25, 13, 13, 13, 13, 25, 25, 9, 9, 13, 13, 13, 0, 0, 27, 27, 13, 13, 25, 25, 25, 25, 25, 25])\n",
            " list([15, 15, 23, 23, 23, 23, 29, 9, 9, 25, 25, 25, 15, 15, 27, 27, 29, 15, 15, 13, 13, 4, 15, 15, 17, 17, 5, 25, 25, 25, 25, 22, 22, 13, 13, 13, 29, 25, 25, 15, 15, 13, 13, 13, 13, 13, 29, 25, 25, 13, 13, 27, 27, 13, 13, 29, 5, 5, 25, 25, 15, 15, 13, 13, 13, 13, 3, 3, 13, 13])\n",
            " ...\n",
            " list([15, 15, 13, 13, 13, 13, 13, 29, 13, 13, 13, 23, 23, 23, 23, 13, 19, 15, 15, 15, 13, 13, 13, 13, 13, 0, 0, 13, 13, 29, 15, 15, 15, 15, 13, 13, 13, 13, 13, 13, 13, 13, 29, 19, 19, 1, 1, 25, 25, 29, 15, 15, 13, 13, 19, 23, 23, 23, 23, 23, 23, 5, 5, 5, 25, 25, 25, 25, 19, 13, 13, 13, 13, 25, 25, 25, 0, 0, 13, 13, 24, 27, 27, 13, 13, 13, 14, 14, 25, 3, 29, 12, 12, 20, 13])\n",
            " list([23, 23, 23, 23, 23, 23, 6, 29, 9, 9, 19, 25, 25, 15, 15, 25, 25, 15, 15, 24, 13, 13, 6, 29, 5, 5, 5, 25, 25, 24, 15, 15, 25, 25, 15, 15, 15, 15, 29, 15, 15, 29, 15, 15, 29, 15, 15, 29, 15, 15, 13, 13])\n",
            " list([14, 13, 13, 25, 25, 13, 13, 29, 23, 23, 23, 23, 23, 29, 14, 13, 13, 25, 24, 13, 13, 4, 13, 13, 25, 15, 15, 25, 25, 29, 25, 25, 12, 25, 5, 5, 25, 25, 25, 13])] [list([0, 2, 1, 0, 1, 0, 1, 0, 1, 3, 3, 0, 1, 3, 0, 1, 3, 0, 1, 0, 1, 0, 1, 0, 2, 1, 0, 1, 0, 1, 0, 1, 3, 0, 2, 2, 1, 0, 1, 0, 1, 0, 1, 0, 2, 1, 0, 1, 0, 1, 0, 1])\n",
            " list([0, 1, 0, 1, 0, 1, 0, 2, 1, 0, 1, 3, 0, 1, 3, 0, 1, 0, 1, 0, 1, 0, 1, 0, 1, 0, 1, 0, 2, 1, 3, 0, 1, 0, 1, 3, 3, 0, 1, 0, 1, 0, 1, 0, 1, 0, 1, 0, 1, 0, 2, 1, 0, 1, 0, 1, 0, 1, 0, 1, 0, 1, 0, 1])\n",
            " list([0, 1, 0, 1, 0, 1, 3, 0, 1, 0, 2, 1, 0, 1, 0, 1, 3, 0, 1, 0, 1, 3, 0, 1, 0, 1, 3, 0, 1, 0, 1, 0, 1, 0, 2, 1, 3, 0, 1, 0, 1, 0, 1, 0, 2, 1, 3, 0, 1, 0, 1, 0, 1, 0, 1, 3, 0, 1, 0, 1, 0, 1, 0, 1, 0, 1, 0, 1, 0, 1])\n",
            " ...\n",
            " list([0, 1, 0, 2, 1, 0, 1, 3, 0, 2, 1, 0, 1, 0, 1, 3, 3, 0, 2, 1, 0, 2, 1, 0, 1, 0, 1, 0, 1, 3, 0, 1, 0, 1, 0, 1, 0, 1, 0, 1, 0, 1, 3, 0, 1, 0, 1, 0, 1, 3, 0, 1, 0, 1, 3, 0, 1, 0, 1, 0, 1, 0, 2, 1, 0, 1, 0, 1, 3, 0, 1, 0, 1, 3, 0, 1, 0, 1, 0, 1, 3, 0, 1, 0, 2, 1, 0, 1, 3, 3, 3, 0, 1, 3, 3])\n",
            " list([0, 1, 0, 1, 0, 1, 3, 3, 0, 1, 3, 0, 1, 0, 1, 0, 1, 0, 1, 3, 0, 1, 3, 3, 3, 0, 1, 0, 1, 3, 0, 1, 0, 1, 0, 2, 2, 1, 3, 0, 1, 3, 0, 1, 3, 0, 1, 3, 0, 1, 0, 1])\n",
            " list([3, 0, 1, 0, 1, 0, 1, 3, 0, 1, 0, 2, 1, 3, 3, 0, 1, 3, 3, 0, 1, 3, 0, 1, 3, 0, 1, 0, 1, 3, 0, 1, 3, 3, 0, 1, 0, 2, 1, 3])] [list([10, 10, 10, 10, 10, 10, 10, 3, 8, 10, 10, 10, 10, 10, 10, 10, 10, 1, 6, 6, 6, 6, 6, 6, 6, 6, 10, 10, 4, 9, 2, 7, 7, 7, 7, 7, 7, 7, 7, 7, 7, 7, 7, 7, 7, 7, 7, 7, 7, 7, 7, 7])\n",
            " list([1, 6, 10, 10, 10, 10, 10, 10, 10, 10, 10, 10, 10, 10, 10, 10, 10, 10, 10, 4, 9, 2, 7, 7, 7, 7, 7, 7, 7, 7, 7, 7, 7, 7, 7, 10, 10, 4, 9, 10, 10, 2, 7, 7, 7, 10, 10, 10, 10, 10, 10, 10, 10, 10, 10, 10, 10, 10, 10, 10, 10, 10, 10, 10])\n",
            " list([10, 10, 3, 8, 8, 8, 10, 1, 6, 6, 6, 6, 6, 6, 6, 6, 6, 6, 6, 6, 6, 6, 6, 6, 6, 6, 10, 10, 10, 4, 9, 2, 7, 7, 7, 7, 10, 10, 10, 2, 7, 7, 7, 7, 7, 7, 10, 10, 10, 10, 10, 10, 10, 10, 10, 10, 10, 10, 10, 10, 10, 10, 10, 10, 10, 10, 10, 10, 10, 10])\n",
            " ...\n",
            " list([10, 10, 10, 10, 10, 10, 10, 10, 10, 10, 10, 3, 8, 8, 8, 10, 10, 10, 10, 10, 10, 10, 10, 10, 10, 10, 10, 10, 10, 10, 1, 6, 6, 6, 6, 6, 10, 10, 10, 10, 4, 9, 10, 2, 7, 7, 7, 7, 7, 7, 7, 7, 7, 7, 7, 7, 7, 7, 7, 7, 7, 7, 7, 7, 7, 7, 7, 7, 7, 7, 7, 7, 7, 7, 7, 7, 7, 7, 7, 7, 7, 7, 7, 7, 7, 7, 7, 7, 7, 7, 7, 7, 7, 7, 10])\n",
            " list([3, 8, 8, 8, 8, 8, 8, 10, 1, 6, 10, 4, 9, 10, 10, 10, 10, 10, 10, 10, 10, 10, 10, 10, 10, 10, 10, 10, 10, 10, 2, 7, 7, 7, 7, 7, 7, 7, 7, 7, 7, 7, 7, 7, 7, 7, 7, 7, 7, 7, 7, 7])\n",
            " list([10, 10, 10, 10, 10, 10, 10, 10, 3, 8, 8, 8, 8, 10, 1, 6, 6, 6, 6, 6, 6, 6, 6, 6, 4, 2, 7, 10, 10, 10, 10, 10, 10, 10, 10, 10, 10, 10, 10, 10])] LabelEncoder() LabelEncoder() LabelEncoder()\n"
          ],
          "name": "stdout"
        }
      ]
    },
    {
      "cell_type": "code",
      "metadata": {
        "id": "vfCGe7Xo3AXV"
      },
      "source": [
        "# # x = '2020年一月'\n",
        "# # [TOKENIZER.encode(i,add_special_tokens=False)[0] for i in x]\n",
        "# TOKENIZER.encode(\n",
        "#     x,\n",
        "#     add_special_tokens=False\n",
        "# )"
      ],
      "execution_count": null,
      "outputs": []
    },
    {
      "cell_type": "code",
      "metadata": {
        "id": "ybLBwu7Y3j76"
      },
      "source": [
        "import torch\n",
        "\n",
        "\n",
        "class EntityDataset:\n",
        "    def __init__(self, texts, pos, bems, tags):\n",
        "        # texts: [[\"hi\", \",\", \"my\", \"name\", \"is\", \"abhishek\"], [\"hello\".....]]\n",
        "        # pos/tags: [[1 2 3 4 1 5], [....].....]]\n",
        "        self.texts = texts\n",
        "        self.pos = pos\n",
        "        self.bems = bems\n",
        "        self.tags = tags\n",
        "    \n",
        "    def __len__(self):\n",
        "        return len(self.texts)\n",
        "    \n",
        "    def __getitem__(self, item):\n",
        "        text = self.texts[item]\n",
        "        pos = self.pos[item]\n",
        "        bems = self.bems[item]\n",
        "        tags = self.tags[item]\n",
        "\n",
        "        ids = []\n",
        "        target_pos = []\n",
        "        target_bems = []\n",
        "        target_tag =[]\n",
        "\n",
        "        for i, s in enumerate(text):\n",
        "            # inputs = TOKENIZER.encode(\n",
        "            #     s,\n",
        "            #     add_special_tokens=False\n",
        "            # )\n",
        "            inputs = [TOKENIZER.encode(i,add_special_tokens=False)[0] for i in s]\n",
        "            input_len = len(inputs)\n",
        "            ids.extend(inputs)\n",
        "            target_pos.extend([pos[i]] * input_len)\n",
        "            target_bems.extend([bems[i]] * input_len)\n",
        "            target_tag.extend([tags[i]] * input_len)\n",
        "\n",
        "        ids = ids[:MAX_LEN - 2]\n",
        "        target_pos = target_pos[:MAX_LEN - 2]\n",
        "        target_bems = target_bems[:MAX_LEN - 2]\n",
        "        target_tag = target_tag[:MAX_LEN - 2]\n",
        "\n",
        "        ids = [101] + ids + [102]\n",
        "        target_pos = [0] + target_pos + [0]\n",
        "        target_bems = [0] + target_bems + [0]\n",
        "        target_tag = [0] + target_tag + [0]\n",
        "\n",
        "        mask = [1] * len(ids)\n",
        "        token_type_ids = [0] * len(ids)\n",
        "\n",
        "        padding_len = MAX_LEN - len(ids)\n",
        "\n",
        "        ids = ids + ([0] * padding_len)\n",
        "        mask = mask + ([0] * padding_len)\n",
        "        token_type_ids = token_type_ids + ([0] * padding_len)\n",
        "        target_pos = target_pos + ([0] * padding_len)\n",
        "        target_bems = target_bems + ([0] * padding_len)\n",
        "        target_tag = target_tag + ([0] * padding_len)\n",
        "\n",
        "        return {\n",
        "            \"ids\": torch.tensor(ids, dtype=torch.long),\n",
        "            \"mask\": torch.tensor(mask, dtype=torch.long),\n",
        "            \"token_type_ids\": torch.tensor(token_type_ids, dtype=torch.long),\n",
        "            \"target_pos\": torch.tensor(target_pos, dtype=torch.long),\n",
        "            \"target_bems\": torch.tensor(target_bems, dtype=torch.long),\n",
        "            \"target_tag\": torch.tensor(target_tag, dtype=torch.long),\n",
        "        }"
      ],
      "execution_count": null,
      "outputs": []
    },
    {
      "cell_type": "code",
      "metadata": {
        "id": "YHtTDidD3lT0"
      },
      "source": [
        "import joblib\n",
        "from sklearn.model_selection import train_test_split\n",
        "\n",
        "meta_data = {\n",
        "    'enc_pos': enc_pos,\n",
        "    'enc_bems': enc_bems,\n",
        "    'enc_tag': enc_tag\n",
        "}\n",
        "joblib.dump(meta_data, \"meta.bin\")\n",
        "num_pos = len(list(enc_pos.classes_))\n",
        "num_bems = len(list(enc_bems.classes_))\n",
        "num_tag = len(list(enc_tag.classes_))\n",
        "\n",
        "(\n",
        "    train_sentences,\n",
        "    test_sentences,\n",
        "    train_pos,\n",
        "    test_pos,\n",
        "    train_bems,\n",
        "    test_bems,\n",
        "    train_tag,\n",
        "    test_tag\n",
        ") = train_test_split(sentences, pos, bems, tag, random_state=42, test_size=0.1)\n",
        "\n",
        "train_dataset = EntityDataset(\n",
        "    texts=train_sentences, pos=train_pos, bems=train_bems, tags=train_tag\n",
        ")\n",
        "\n",
        "train_data_loader = torch.utils.data.DataLoader(\n",
        "    train_dataset, batch_size=TRAIN_BATCH_SIZE, num_workers=4\n",
        ")\n",
        "\n",
        "valid_dataset = EntityDataset(\n",
        "    texts=test_sentences, pos=test_pos, bems=test_bems, tags=test_tag\n",
        ")\n",
        "\n",
        "valid_data_loader = torch.utils.data.DataLoader(\n",
        "    valid_dataset, batch_size=VALID_BATCH_SIZE, num_workers=1\n",
        ")"
      ],
      "execution_count": null,
      "outputs": []
    },
    {
      "cell_type": "code",
      "metadata": {
        "id": "A95ZpIr34CCa",
        "outputId": "75391987-2d28-458d-bb77-dee5ad1f9136",
        "colab": {
          "base_uri": "https://localhost:8080/",
          "height": 782
        }
      },
      "source": [
        "next(iter(train_dataset))"
      ],
      "execution_count": null,
      "outputs": [
        {
          "output_type": "execute_result",
          "data": {
            "text/plain": [
              "{'ids': tensor([ 101, 6858, 6814, 5632,  712, 4777, 1355, 8024,  677, 3862, 2157, 1265,\n",
              "         7355, 5330, 2972, 1139, 3173, 1501, 4277, 8024, 1429, 2471,  679, 1398,\n",
              "         2399, 7977, 3667, 3867, 6589, 5442, 8024, 2810, 1920, 2356, 1767,  819,\n",
              "         7583,  102,    0,    0,    0,    0,    0,    0,    0,    0,    0,    0,\n",
              "            0,    0,    0,    0,    0,    0,    0,    0,    0,    0,    0,    0,\n",
              "            0,    0,    0,    0,    0,    0,    0,    0,    0,    0,    0,    0,\n",
              "            0,    0,    0,    0,    0,    0,    0,    0,    0,    0,    0,    0,\n",
              "            0,    0,    0,    0,    0,    0,    0,    0,    0,    0,    0,    0,\n",
              "            0,    0,    0,    0,    0,    0,    0,    0,    0,    0,    0,    0,\n",
              "            0,    0,    0,    0,    0,    0,    0,    0,    0,    0,    0,    0,\n",
              "            0,    0,    0,    0,    0,    0,    0,    0]),\n",
              " 'mask': tensor([1, 1, 1, 1, 1, 1, 1, 1, 1, 1, 1, 1, 1, 1, 1, 1, 1, 1, 1, 1, 1, 1, 1, 1,\n",
              "         1, 1, 1, 1, 1, 1, 1, 1, 1, 1, 1, 1, 1, 1, 0, 0, 0, 0, 0, 0, 0, 0, 0, 0,\n",
              "         0, 0, 0, 0, 0, 0, 0, 0, 0, 0, 0, 0, 0, 0, 0, 0, 0, 0, 0, 0, 0, 0, 0, 0,\n",
              "         0, 0, 0, 0, 0, 0, 0, 0, 0, 0, 0, 0, 0, 0, 0, 0, 0, 0, 0, 0, 0, 0, 0, 0,\n",
              "         0, 0, 0, 0, 0, 0, 0, 0, 0, 0, 0, 0, 0, 0, 0, 0, 0, 0, 0, 0, 0, 0, 0, 0,\n",
              "         0, 0, 0, 0, 0, 0, 0, 0]),\n",
              " 'target_bems': tensor([0, 0, 1, 0, 1, 0, 1, 3, 0, 1, 0, 1, 0, 1, 0, 1, 3, 0, 1, 3, 0, 1, 0, 1,\n",
              "         0, 2, 1, 0, 2, 1, 3, 0, 1, 0, 1, 0, 1, 0, 0, 0, 0, 0, 0, 0, 0, 0, 0, 0,\n",
              "         0, 0, 0, 0, 0, 0, 0, 0, 0, 0, 0, 0, 0, 0, 0, 0, 0, 0, 0, 0, 0, 0, 0, 0,\n",
              "         0, 0, 0, 0, 0, 0, 0, 0, 0, 0, 0, 0, 0, 0, 0, 0, 0, 0, 0, 0, 0, 0, 0, 0,\n",
              "         0, 0, 0, 0, 0, 0, 0, 0, 0, 0, 0, 0, 0, 0, 0, 0, 0, 0, 0, 0, 0, 0, 0, 0,\n",
              "         0, 0, 0, 0, 0, 0, 0, 0]),\n",
              " 'target_pos': tensor([ 0, 19, 19, 26, 26, 25, 25, 29, 15, 15,  9,  9,  5,  5, 25, 25,  0, 13,\n",
              "         13, 29, 25, 25, 27, 27, 13, 13, 13, 13, 13, 13, 29, 25, 25, 13, 13, 13,\n",
              "         13,  0,  0,  0,  0,  0,  0,  0,  0,  0,  0,  0,  0,  0,  0,  0,  0,  0,\n",
              "          0,  0,  0,  0,  0,  0,  0,  0,  0,  0,  0,  0,  0,  0,  0,  0,  0,  0,\n",
              "          0,  0,  0,  0,  0,  0,  0,  0,  0,  0,  0,  0,  0,  0,  0,  0,  0,  0,\n",
              "          0,  0,  0,  0,  0,  0,  0,  0,  0,  0,  0,  0,  0,  0,  0,  0,  0,  0,\n",
              "          0,  0,  0,  0,  0,  0,  0,  0,  0,  0,  0,  0,  0,  0,  0,  0,  0,  0,\n",
              "          0,  0]),\n",
              " 'target_tag': tensor([ 0, 10, 10, 10, 10, 10, 10, 10,  1,  6,  6,  6, 10, 10,  4,  9,  2,  7,\n",
              "          7, 10, 10, 10, 10, 10, 10, 10, 10, 10, 10, 10, 10, 10, 10, 10, 10, 10,\n",
              "         10,  0,  0,  0,  0,  0,  0,  0,  0,  0,  0,  0,  0,  0,  0,  0,  0,  0,\n",
              "          0,  0,  0,  0,  0,  0,  0,  0,  0,  0,  0,  0,  0,  0,  0,  0,  0,  0,\n",
              "          0,  0,  0,  0,  0,  0,  0,  0,  0,  0,  0,  0,  0,  0,  0,  0,  0,  0,\n",
              "          0,  0,  0,  0,  0,  0,  0,  0,  0,  0,  0,  0,  0,  0,  0,  0,  0,  0,\n",
              "          0,  0,  0,  0,  0,  0,  0,  0,  0,  0,  0,  0,  0,  0,  0,  0,  0,  0,\n",
              "          0,  0]),\n",
              " 'token_type_ids': tensor([0, 0, 0, 0, 0, 0, 0, 0, 0, 0, 0, 0, 0, 0, 0, 0, 0, 0, 0, 0, 0, 0, 0, 0,\n",
              "         0, 0, 0, 0, 0, 0, 0, 0, 0, 0, 0, 0, 0, 0, 0, 0, 0, 0, 0, 0, 0, 0, 0, 0,\n",
              "         0, 0, 0, 0, 0, 0, 0, 0, 0, 0, 0, 0, 0, 0, 0, 0, 0, 0, 0, 0, 0, 0, 0, 0,\n",
              "         0, 0, 0, 0, 0, 0, 0, 0, 0, 0, 0, 0, 0, 0, 0, 0, 0, 0, 0, 0, 0, 0, 0, 0,\n",
              "         0, 0, 0, 0, 0, 0, 0, 0, 0, 0, 0, 0, 0, 0, 0, 0, 0, 0, 0, 0, 0, 0, 0, 0,\n",
              "         0, 0, 0, 0, 0, 0, 0, 0])}"
            ]
          },
          "metadata": {
            "tags": []
          },
          "execution_count": 10
        }
      ]
    },
    {
      "cell_type": "code",
      "metadata": {
        "id": "V0jeZ0xl4zmH"
      },
      "source": [
        "# next(iter(train_data_loader))"
      ],
      "execution_count": null,
      "outputs": []
    },
    {
      "cell_type": "code",
      "metadata": {
        "id": "AFX6ONss48Nb"
      },
      "source": [
        "import torch.nn as nn\n",
        "import torch\n",
        "\n",
        "def loss_fn(output, target, mask, num_labels):\n",
        "    l_fn = nn.CrossEntropyLoss()\n",
        "    active_loss = mask.view(-1) == 1\n",
        "    active_logits = output.view(-1, num_labels)\n",
        "    active_labels = torch.where(\n",
        "        active_loss,\n",
        "        target.view(-1),\n",
        "        torch.tensor(l_fn.ignore_index).type_as(target)\n",
        "    )\n",
        "    loss = l_fn(active_logits, active_labels)\n",
        "    return loss\n",
        "\n",
        "\n",
        "class EntityModel(nn.Module):\n",
        "    def __init__(self, num_tag, num_bems, num_pos):\n",
        "        super(EntityModel, self).__init__()\n",
        "        self.num_tag = num_tag\n",
        "        self.num_bems = num_bems\n",
        "        self.num_pos = num_pos\n",
        "        self.bert = transformers.BertModel.from_pretrained(BASE_MODEL_PATH)\n",
        "        self.bert_drop_1 = nn.Dropout(0.3)\n",
        "        self.bert_drop_2 = nn.Dropout(0.3)\n",
        "        self.bert_drop_3 = nn.Dropout(0.3)\n",
        "        self.out_tag = nn.Linear(768, self.num_tag)\n",
        "        self.out_bems = nn.Linear(768, self.num_bems)\n",
        "        self.out_pos = nn.Linear(768, self.num_pos)\n",
        "    \n",
        "    def forward(self, ids, mask, token_type_ids, target_pos, target_bems, target_tag):\n",
        "        o1, _ = self.bert(ids, attention_mask=mask, token_type_ids=token_type_ids)\n",
        "\n",
        "        bo_tag = self.bert_drop_1(o1)\n",
        "        bo_bems = self.bert_drop_2(o1)\n",
        "        bo_pos = self.bert_drop_3(o1)\n",
        "\n",
        "        tag = self.out_tag(bo_tag)\n",
        "        bems = self.out_bems(bo_bems)\n",
        "        pos = self.out_pos(bo_pos)\n",
        "\n",
        "        loss_tag = loss_fn(tag, target_tag, mask, self.num_tag)\n",
        "        loss_bems = loss_fn(bems, target_bems, mask, self.num_bems)\n",
        "        loss_pos = loss_fn(pos, target_pos, mask, self.num_pos)\n",
        "\n",
        "        loss = (loss_tag + loss_bems + loss_pos) / 3\n",
        "\n",
        "        return tag, bems, pos, loss"
      ],
      "execution_count": null,
      "outputs": []
    },
    {
      "cell_type": "code",
      "metadata": {
        "id": "KUGadvjn6GT9",
        "outputId": "43b9c516-fb43-46a6-b3aa-01bd9023cf2f",
        "colab": {
          "base_uri": "https://localhost:8080/",
          "height": 1000
        }
      },
      "source": [
        "device = torch.device('cuda')\n",
        "model = EntityModel(num_pos=num_pos, num_bems = num_bems, num_tag = num_tag)\n",
        "model.to(device)"
      ],
      "execution_count": null,
      "outputs": [
        {
          "output_type": "execute_result",
          "data": {
            "text/plain": [
              "EntityModel(\n",
              "  (bert): BertModel(\n",
              "    (embeddings): BertEmbeddings(\n",
              "      (word_embeddings): Embedding(21128, 768, padding_idx=0)\n",
              "      (position_embeddings): Embedding(512, 768)\n",
              "      (token_type_embeddings): Embedding(2, 768)\n",
              "      (LayerNorm): LayerNorm((768,), eps=1e-12, elementwise_affine=True)\n",
              "      (dropout): Dropout(p=0.1, inplace=False)\n",
              "    )\n",
              "    (encoder): BertEncoder(\n",
              "      (layer): ModuleList(\n",
              "        (0): BertLayer(\n",
              "          (attention): BertAttention(\n",
              "            (self): BertSelfAttention(\n",
              "              (query): Linear(in_features=768, out_features=768, bias=True)\n",
              "              (key): Linear(in_features=768, out_features=768, bias=True)\n",
              "              (value): Linear(in_features=768, out_features=768, bias=True)\n",
              "              (dropout): Dropout(p=0.1, inplace=False)\n",
              "            )\n",
              "            (output): BertSelfOutput(\n",
              "              (dense): Linear(in_features=768, out_features=768, bias=True)\n",
              "              (LayerNorm): LayerNorm((768,), eps=1e-12, elementwise_affine=True)\n",
              "              (dropout): Dropout(p=0.1, inplace=False)\n",
              "            )\n",
              "          )\n",
              "          (intermediate): BertIntermediate(\n",
              "            (dense): Linear(in_features=768, out_features=3072, bias=True)\n",
              "          )\n",
              "          (output): BertOutput(\n",
              "            (dense): Linear(in_features=3072, out_features=768, bias=True)\n",
              "            (LayerNorm): LayerNorm((768,), eps=1e-12, elementwise_affine=True)\n",
              "            (dropout): Dropout(p=0.1, inplace=False)\n",
              "          )\n",
              "        )\n",
              "        (1): BertLayer(\n",
              "          (attention): BertAttention(\n",
              "            (self): BertSelfAttention(\n",
              "              (query): Linear(in_features=768, out_features=768, bias=True)\n",
              "              (key): Linear(in_features=768, out_features=768, bias=True)\n",
              "              (value): Linear(in_features=768, out_features=768, bias=True)\n",
              "              (dropout): Dropout(p=0.1, inplace=False)\n",
              "            )\n",
              "            (output): BertSelfOutput(\n",
              "              (dense): Linear(in_features=768, out_features=768, bias=True)\n",
              "              (LayerNorm): LayerNorm((768,), eps=1e-12, elementwise_affine=True)\n",
              "              (dropout): Dropout(p=0.1, inplace=False)\n",
              "            )\n",
              "          )\n",
              "          (intermediate): BertIntermediate(\n",
              "            (dense): Linear(in_features=768, out_features=3072, bias=True)\n",
              "          )\n",
              "          (output): BertOutput(\n",
              "            (dense): Linear(in_features=3072, out_features=768, bias=True)\n",
              "            (LayerNorm): LayerNorm((768,), eps=1e-12, elementwise_affine=True)\n",
              "            (dropout): Dropout(p=0.1, inplace=False)\n",
              "          )\n",
              "        )\n",
              "        (2): BertLayer(\n",
              "          (attention): BertAttention(\n",
              "            (self): BertSelfAttention(\n",
              "              (query): Linear(in_features=768, out_features=768, bias=True)\n",
              "              (key): Linear(in_features=768, out_features=768, bias=True)\n",
              "              (value): Linear(in_features=768, out_features=768, bias=True)\n",
              "              (dropout): Dropout(p=0.1, inplace=False)\n",
              "            )\n",
              "            (output): BertSelfOutput(\n",
              "              (dense): Linear(in_features=768, out_features=768, bias=True)\n",
              "              (LayerNorm): LayerNorm((768,), eps=1e-12, elementwise_affine=True)\n",
              "              (dropout): Dropout(p=0.1, inplace=False)\n",
              "            )\n",
              "          )\n",
              "          (intermediate): BertIntermediate(\n",
              "            (dense): Linear(in_features=768, out_features=3072, bias=True)\n",
              "          )\n",
              "          (output): BertOutput(\n",
              "            (dense): Linear(in_features=3072, out_features=768, bias=True)\n",
              "            (LayerNorm): LayerNorm((768,), eps=1e-12, elementwise_affine=True)\n",
              "            (dropout): Dropout(p=0.1, inplace=False)\n",
              "          )\n",
              "        )\n",
              "        (3): BertLayer(\n",
              "          (attention): BertAttention(\n",
              "            (self): BertSelfAttention(\n",
              "              (query): Linear(in_features=768, out_features=768, bias=True)\n",
              "              (key): Linear(in_features=768, out_features=768, bias=True)\n",
              "              (value): Linear(in_features=768, out_features=768, bias=True)\n",
              "              (dropout): Dropout(p=0.1, inplace=False)\n",
              "            )\n",
              "            (output): BertSelfOutput(\n",
              "              (dense): Linear(in_features=768, out_features=768, bias=True)\n",
              "              (LayerNorm): LayerNorm((768,), eps=1e-12, elementwise_affine=True)\n",
              "              (dropout): Dropout(p=0.1, inplace=False)\n",
              "            )\n",
              "          )\n",
              "          (intermediate): BertIntermediate(\n",
              "            (dense): Linear(in_features=768, out_features=3072, bias=True)\n",
              "          )\n",
              "          (output): BertOutput(\n",
              "            (dense): Linear(in_features=3072, out_features=768, bias=True)\n",
              "            (LayerNorm): LayerNorm((768,), eps=1e-12, elementwise_affine=True)\n",
              "            (dropout): Dropout(p=0.1, inplace=False)\n",
              "          )\n",
              "        )\n",
              "        (4): BertLayer(\n",
              "          (attention): BertAttention(\n",
              "            (self): BertSelfAttention(\n",
              "              (query): Linear(in_features=768, out_features=768, bias=True)\n",
              "              (key): Linear(in_features=768, out_features=768, bias=True)\n",
              "              (value): Linear(in_features=768, out_features=768, bias=True)\n",
              "              (dropout): Dropout(p=0.1, inplace=False)\n",
              "            )\n",
              "            (output): BertSelfOutput(\n",
              "              (dense): Linear(in_features=768, out_features=768, bias=True)\n",
              "              (LayerNorm): LayerNorm((768,), eps=1e-12, elementwise_affine=True)\n",
              "              (dropout): Dropout(p=0.1, inplace=False)\n",
              "            )\n",
              "          )\n",
              "          (intermediate): BertIntermediate(\n",
              "            (dense): Linear(in_features=768, out_features=3072, bias=True)\n",
              "          )\n",
              "          (output): BertOutput(\n",
              "            (dense): Linear(in_features=3072, out_features=768, bias=True)\n",
              "            (LayerNorm): LayerNorm((768,), eps=1e-12, elementwise_affine=True)\n",
              "            (dropout): Dropout(p=0.1, inplace=False)\n",
              "          )\n",
              "        )\n",
              "        (5): BertLayer(\n",
              "          (attention): BertAttention(\n",
              "            (self): BertSelfAttention(\n",
              "              (query): Linear(in_features=768, out_features=768, bias=True)\n",
              "              (key): Linear(in_features=768, out_features=768, bias=True)\n",
              "              (value): Linear(in_features=768, out_features=768, bias=True)\n",
              "              (dropout): Dropout(p=0.1, inplace=False)\n",
              "            )\n",
              "            (output): BertSelfOutput(\n",
              "              (dense): Linear(in_features=768, out_features=768, bias=True)\n",
              "              (LayerNorm): LayerNorm((768,), eps=1e-12, elementwise_affine=True)\n",
              "              (dropout): Dropout(p=0.1, inplace=False)\n",
              "            )\n",
              "          )\n",
              "          (intermediate): BertIntermediate(\n",
              "            (dense): Linear(in_features=768, out_features=3072, bias=True)\n",
              "          )\n",
              "          (output): BertOutput(\n",
              "            (dense): Linear(in_features=3072, out_features=768, bias=True)\n",
              "            (LayerNorm): LayerNorm((768,), eps=1e-12, elementwise_affine=True)\n",
              "            (dropout): Dropout(p=0.1, inplace=False)\n",
              "          )\n",
              "        )\n",
              "        (6): BertLayer(\n",
              "          (attention): BertAttention(\n",
              "            (self): BertSelfAttention(\n",
              "              (query): Linear(in_features=768, out_features=768, bias=True)\n",
              "              (key): Linear(in_features=768, out_features=768, bias=True)\n",
              "              (value): Linear(in_features=768, out_features=768, bias=True)\n",
              "              (dropout): Dropout(p=0.1, inplace=False)\n",
              "            )\n",
              "            (output): BertSelfOutput(\n",
              "              (dense): Linear(in_features=768, out_features=768, bias=True)\n",
              "              (LayerNorm): LayerNorm((768,), eps=1e-12, elementwise_affine=True)\n",
              "              (dropout): Dropout(p=0.1, inplace=False)\n",
              "            )\n",
              "          )\n",
              "          (intermediate): BertIntermediate(\n",
              "            (dense): Linear(in_features=768, out_features=3072, bias=True)\n",
              "          )\n",
              "          (output): BertOutput(\n",
              "            (dense): Linear(in_features=3072, out_features=768, bias=True)\n",
              "            (LayerNorm): LayerNorm((768,), eps=1e-12, elementwise_affine=True)\n",
              "            (dropout): Dropout(p=0.1, inplace=False)\n",
              "          )\n",
              "        )\n",
              "        (7): BertLayer(\n",
              "          (attention): BertAttention(\n",
              "            (self): BertSelfAttention(\n",
              "              (query): Linear(in_features=768, out_features=768, bias=True)\n",
              "              (key): Linear(in_features=768, out_features=768, bias=True)\n",
              "              (value): Linear(in_features=768, out_features=768, bias=True)\n",
              "              (dropout): Dropout(p=0.1, inplace=False)\n",
              "            )\n",
              "            (output): BertSelfOutput(\n",
              "              (dense): Linear(in_features=768, out_features=768, bias=True)\n",
              "              (LayerNorm): LayerNorm((768,), eps=1e-12, elementwise_affine=True)\n",
              "              (dropout): Dropout(p=0.1, inplace=False)\n",
              "            )\n",
              "          )\n",
              "          (intermediate): BertIntermediate(\n",
              "            (dense): Linear(in_features=768, out_features=3072, bias=True)\n",
              "          )\n",
              "          (output): BertOutput(\n",
              "            (dense): Linear(in_features=3072, out_features=768, bias=True)\n",
              "            (LayerNorm): LayerNorm((768,), eps=1e-12, elementwise_affine=True)\n",
              "            (dropout): Dropout(p=0.1, inplace=False)\n",
              "          )\n",
              "        )\n",
              "        (8): BertLayer(\n",
              "          (attention): BertAttention(\n",
              "            (self): BertSelfAttention(\n",
              "              (query): Linear(in_features=768, out_features=768, bias=True)\n",
              "              (key): Linear(in_features=768, out_features=768, bias=True)\n",
              "              (value): Linear(in_features=768, out_features=768, bias=True)\n",
              "              (dropout): Dropout(p=0.1, inplace=False)\n",
              "            )\n",
              "            (output): BertSelfOutput(\n",
              "              (dense): Linear(in_features=768, out_features=768, bias=True)\n",
              "              (LayerNorm): LayerNorm((768,), eps=1e-12, elementwise_affine=True)\n",
              "              (dropout): Dropout(p=0.1, inplace=False)\n",
              "            )\n",
              "          )\n",
              "          (intermediate): BertIntermediate(\n",
              "            (dense): Linear(in_features=768, out_features=3072, bias=True)\n",
              "          )\n",
              "          (output): BertOutput(\n",
              "            (dense): Linear(in_features=3072, out_features=768, bias=True)\n",
              "            (LayerNorm): LayerNorm((768,), eps=1e-12, elementwise_affine=True)\n",
              "            (dropout): Dropout(p=0.1, inplace=False)\n",
              "          )\n",
              "        )\n",
              "        (9): BertLayer(\n",
              "          (attention): BertAttention(\n",
              "            (self): BertSelfAttention(\n",
              "              (query): Linear(in_features=768, out_features=768, bias=True)\n",
              "              (key): Linear(in_features=768, out_features=768, bias=True)\n",
              "              (value): Linear(in_features=768, out_features=768, bias=True)\n",
              "              (dropout): Dropout(p=0.1, inplace=False)\n",
              "            )\n",
              "            (output): BertSelfOutput(\n",
              "              (dense): Linear(in_features=768, out_features=768, bias=True)\n",
              "              (LayerNorm): LayerNorm((768,), eps=1e-12, elementwise_affine=True)\n",
              "              (dropout): Dropout(p=0.1, inplace=False)\n",
              "            )\n",
              "          )\n",
              "          (intermediate): BertIntermediate(\n",
              "            (dense): Linear(in_features=768, out_features=3072, bias=True)\n",
              "          )\n",
              "          (output): BertOutput(\n",
              "            (dense): Linear(in_features=3072, out_features=768, bias=True)\n",
              "            (LayerNorm): LayerNorm((768,), eps=1e-12, elementwise_affine=True)\n",
              "            (dropout): Dropout(p=0.1, inplace=False)\n",
              "          )\n",
              "        )\n",
              "        (10): BertLayer(\n",
              "          (attention): BertAttention(\n",
              "            (self): BertSelfAttention(\n",
              "              (query): Linear(in_features=768, out_features=768, bias=True)\n",
              "              (key): Linear(in_features=768, out_features=768, bias=True)\n",
              "              (value): Linear(in_features=768, out_features=768, bias=True)\n",
              "              (dropout): Dropout(p=0.1, inplace=False)\n",
              "            )\n",
              "            (output): BertSelfOutput(\n",
              "              (dense): Linear(in_features=768, out_features=768, bias=True)\n",
              "              (LayerNorm): LayerNorm((768,), eps=1e-12, elementwise_affine=True)\n",
              "              (dropout): Dropout(p=0.1, inplace=False)\n",
              "            )\n",
              "          )\n",
              "          (intermediate): BertIntermediate(\n",
              "            (dense): Linear(in_features=768, out_features=3072, bias=True)\n",
              "          )\n",
              "          (output): BertOutput(\n",
              "            (dense): Linear(in_features=3072, out_features=768, bias=True)\n",
              "            (LayerNorm): LayerNorm((768,), eps=1e-12, elementwise_affine=True)\n",
              "            (dropout): Dropout(p=0.1, inplace=False)\n",
              "          )\n",
              "        )\n",
              "        (11): BertLayer(\n",
              "          (attention): BertAttention(\n",
              "            (self): BertSelfAttention(\n",
              "              (query): Linear(in_features=768, out_features=768, bias=True)\n",
              "              (key): Linear(in_features=768, out_features=768, bias=True)\n",
              "              (value): Linear(in_features=768, out_features=768, bias=True)\n",
              "              (dropout): Dropout(p=0.1, inplace=False)\n",
              "            )\n",
              "            (output): BertSelfOutput(\n",
              "              (dense): Linear(in_features=768, out_features=768, bias=True)\n",
              "              (LayerNorm): LayerNorm((768,), eps=1e-12, elementwise_affine=True)\n",
              "              (dropout): Dropout(p=0.1, inplace=False)\n",
              "            )\n",
              "          )\n",
              "          (intermediate): BertIntermediate(\n",
              "            (dense): Linear(in_features=768, out_features=3072, bias=True)\n",
              "          )\n",
              "          (output): BertOutput(\n",
              "            (dense): Linear(in_features=3072, out_features=768, bias=True)\n",
              "            (LayerNorm): LayerNorm((768,), eps=1e-12, elementwise_affine=True)\n",
              "            (dropout): Dropout(p=0.1, inplace=False)\n",
              "          )\n",
              "        )\n",
              "      )\n",
              "    )\n",
              "    (pooler): BertPooler(\n",
              "      (dense): Linear(in_features=768, out_features=768, bias=True)\n",
              "      (activation): Tanh()\n",
              "    )\n",
              "  )\n",
              "  (bert_drop_1): Dropout(p=0.3, inplace=False)\n",
              "  (bert_drop_2): Dropout(p=0.3, inplace=False)\n",
              "  (bert_drop_3): Dropout(p=0.3, inplace=False)\n",
              "  (out_tag): Linear(in_features=768, out_features=11, bias=True)\n",
              "  (out_bems): Linear(in_features=768, out_features=4, bias=True)\n",
              "  (out_pos): Linear(in_features=768, out_features=32, bias=True)\n",
              ")"
            ]
          },
          "metadata": {
            "tags": []
          },
          "execution_count": 14
        }
      ]
    },
    {
      "cell_type": "code",
      "metadata": {
        "id": "QddyJ4Az6gWh"
      },
      "source": [
        "param_optimizer = list(model.named_parameters())\n",
        "no_decay = [\"bias\", \"LayerNorm.bias\", \"LayerNorm.weight\"]\n",
        "optimizer_parameters = [\n",
        "    {\n",
        "        \"params\": [\n",
        "            p for n, p in param_optimizer if not any(nd in n for nd in no_decay)\n",
        "        ],\n",
        "        \"weight_decay\": 0.001,\n",
        "    },\n",
        "    {\n",
        "        \"params\": [\n",
        "            p for n, p in param_optimizer if any(nd in n for nd in no_decay)\n",
        "        ],\n",
        "        \"weight_decay\": 0.0,\n",
        "    },\n",
        "]"
      ],
      "execution_count": null,
      "outputs": []
    },
    {
      "cell_type": "code",
      "metadata": {
        "id": "17jRQ1-16o_f"
      },
      "source": [
        "from transformers import AdamW, get_linear_schedule_with_warmup\n",
        "\n",
        "num_train_steps = int(len(train_sentences) / TRAIN_BATCH_SIZE * EPOCHS)\n",
        "optimizer = AdamW(optimizer_parameters, lr=3e-5)\n",
        "scheduler = get_linear_schedule_with_warmup(\n",
        "    optimizer, num_warmup_steps=0, num_training_steps=num_train_steps\n",
        ")"
      ],
      "execution_count": null,
      "outputs": []
    },
    {
      "cell_type": "code",
      "metadata": {
        "id": "_3BDG1v66y6P"
      },
      "source": [
        "import torch\n",
        "from tqdm import tqdm\n",
        "def train_fn(data_loader, model, optimizer, device, scheduler):\n",
        "    model.train()\n",
        "    final_loss = 0\n",
        "    for data in tqdm(data_loader, total=len(data_loader)):\n",
        "        for k, v in data.items():\n",
        "            data[k] = v.to(device)\n",
        "        optimizer.zero_grad()\n",
        "        _, _, _, loss = model(**data)\n",
        "        loss.backward()\n",
        "        optimizer.step()\n",
        "        scheduler.step()\n",
        "        final_loss += loss.item()\n",
        "    return final_loss / len(data_loader)\n",
        "def eval_fn(data_loader, model, device):\n",
        "    model.eval()\n",
        "    final_loss = 0\n",
        "    for data in tqdm(data_loader, total=len(data_loader)):\n",
        "        for k, v in data.items():\n",
        "            data[k] = v.to(device)\n",
        "        _, _, _, loss = model(**data)\n",
        "        final_loss += loss.item()\n",
        "    return final_loss / len(data_loader)"
      ],
      "execution_count": null,
      "outputs": []
    },
    {
      "cell_type": "code",
      "metadata": {
        "id": "7m52r4Hp611-",
        "outputId": "12a65ec5-2e6a-46bf-9c95-c5db3b3f1409",
        "colab": {
          "base_uri": "https://localhost:8080/",
          "height": 272
        }
      },
      "source": [
        "best_loss = np.inf\n",
        "for epoch in range(EPOCHS):\n",
        "    train_loss = train_fn(train_data_loader, model, optimizer, device, scheduler)\n",
        "    test_loss = eval_fn(valid_data_loader, model, device)\n",
        "    print(f\"Train Loss = {train_loss} Valid Loss = {test_loss}\")\n",
        "    if test_loss < best_loss:\n",
        "        torch.save(model.state_dict(), MODEL_PATH)\n",
        "        torch.save(model,'trigger_model.pt')\n",
        "        best_loss = test_loss"
      ],
      "execution_count": null,
      "outputs": [
        {
          "output_type": "stream",
          "text": [
            "100%|██████████| 162/162 [01:54<00:00,  1.41it/s]\n",
            "100%|██████████| 72/72 [00:05<00:00, 12.84it/s]\n"
          ],
          "name": "stderr"
        },
        {
          "output_type": "stream",
          "text": [
            "Train Loss = 0.7311545041976152 Valid Loss = 0.37407245486974716\n"
          ],
          "name": "stdout"
        },
        {
          "output_type": "stream",
          "text": [
            "100%|██████████| 162/162 [01:55<00:00,  1.40it/s]\n",
            "100%|██████████| 72/72 [00:05<00:00, 12.71it/s]\n"
          ],
          "name": "stderr"
        },
        {
          "output_type": "stream",
          "text": [
            "Train Loss = 0.3602692096689601 Valid Loss = 0.31486657323936623\n"
          ],
          "name": "stdout"
        },
        {
          "output_type": "stream",
          "text": [
            "100%|██████████| 162/162 [01:55<00:00,  1.40it/s]\n",
            "100%|██████████| 72/72 [00:05<00:00, 12.58it/s]\n"
          ],
          "name": "stderr"
        },
        {
          "output_type": "stream",
          "text": [
            "Train Loss = 0.2955791629206987 Valid Loss = 0.29252462792727685\n"
          ],
          "name": "stdout"
        },
        {
          "output_type": "stream",
          "text": [
            "100%|██████████| 162/162 [01:55<00:00,  1.40it/s]\n",
            "100%|██████████| 72/72 [00:05<00:00, 12.64it/s]\n"
          ],
          "name": "stderr"
        },
        {
          "output_type": "stream",
          "text": [
            "Train Loss = 0.2605533841767429 Valid Loss = 0.28909531359871227\n"
          ],
          "name": "stdout"
        },
        {
          "output_type": "stream",
          "text": [
            "100%|██████████| 162/162 [01:55<00:00,  1.40it/s]\n",
            "100%|██████████| 72/72 [00:05<00:00, 12.61it/s]\n"
          ],
          "name": "stderr"
        },
        {
          "output_type": "stream",
          "text": [
            "Train Loss = 0.24123876486663465 Valid Loss = 0.288140366681748\n"
          ],
          "name": "stdout"
        }
      ]
    },
    {
      "cell_type": "code",
      "metadata": {
        "id": "LHXNF2AuFmWi",
        "outputId": "020f73b1-6498-49cc-8ad3-8f97f20c9625",
        "colab": {
          "base_uri": "https://localhost:8080/",
          "height": 204
        }
      },
      "source": [
        "test_data = pd.read_csv('/content/gdrive/My Drive/事件抽取挑战赛_事件抽取初赛数据/事件抽取挑战赛_事件抽取初赛数据/test/test.csv')\n",
        "test_data.head()"
      ],
      "execution_count": null,
      "outputs": [
        {
          "output_type": "execute_result",
          "data": {
            "text/html": [
              "<div>\n",
              "<style scoped>\n",
              "    .dataframe tbody tr th:only-of-type {\n",
              "        vertical-align: middle;\n",
              "    }\n",
              "\n",
              "    .dataframe tbody tr th {\n",
              "        vertical-align: top;\n",
              "    }\n",
              "\n",
              "    .dataframe thead th {\n",
              "        text-align: right;\n",
              "    }\n",
              "</style>\n",
              "<table border=\"1\" class=\"dataframe\">\n",
              "  <thead>\n",
              "    <tr style=\"text-align: right;\">\n",
              "      <th></th>\n",
              "      <th>id</th>\n",
              "      <th>news</th>\n",
              "    </tr>\n",
              "  </thead>\n",
              "  <tbody>\n",
              "    <tr>\n",
              "      <th>0</th>\n",
              "      <td>7953</td>\n",
              "      <td>此外，深航积极恢复湖北其他城市的航班运力，已于近日陆续恢复襄阳往返深圳、惠州、沈阳、珠海，宜...</td>\n",
              "    </tr>\n",
              "    <tr>\n",
              "      <th>1</th>\n",
              "      <td>7955</td>\n",
              "      <td>同时，因其违反中国法律、法规规定，妨害社会管理，根据《出境入境管理法》第八十一条第一款，越秀...</td>\n",
              "    </tr>\n",
              "    <tr>\n",
              "      <th>2</th>\n",
              "      <td>7956</td>\n",
              "      <td>2008年间，佛山市南海区某五金机械厂等8名合法债权人因与罗某丰所经营的某灯具公司发生买卖合...</td>\n",
              "    </tr>\n",
              "    <tr>\n",
              "      <th>3</th>\n",
              "      <td>7959</td>\n",
              "      <td>广州男子涉嫌偷拍女同学发布淫秽信息，学校发声4月8日9时许，广州警方发布通报，经过缜密调查，...</td>\n",
              "    </tr>\n",
              "    <tr>\n",
              "      <th>4</th>\n",
              "      <td>7960</td>\n",
              "      <td>作为广东深圳一家节能企业的董事长，从1月29日开始，李海建便来到武汉参与医疗废弃物焚烧车间建设</td>\n",
              "    </tr>\n",
              "  </tbody>\n",
              "</table>\n",
              "</div>"
            ],
            "text/plain": [
              "     id                                               news\n",
              "0  7953  此外，深航积极恢复湖北其他城市的航班运力，已于近日陆续恢复襄阳往返深圳、惠州、沈阳、珠海，宜...\n",
              "1  7955  同时，因其违反中国法律、法规规定，妨害社会管理，根据《出境入境管理法》第八十一条第一款，越秀...\n",
              "2  7956  2008年间，佛山市南海区某五金机械厂等8名合法债权人因与罗某丰所经营的某灯具公司发生买卖合...\n",
              "3  7959  广州男子涉嫌偷拍女同学发布淫秽信息，学校发声4月8日9时许，广州警方发布通报，经过缜密调查，...\n",
              "4  7960    作为广东深圳一家节能企业的董事长，从1月29日开始，李海建便来到武汉参与医疗废弃物焚烧车间建设"
            ]
          },
          "metadata": {
            "tags": []
          },
          "execution_count": 19
        }
      ]
    },
    {
      "cell_type": "code",
      "metadata": {
        "id": "ZGY1zpKtGUL5",
        "outputId": "d0fb4318-a915-44cd-cc53-b4944576909b",
        "colab": {
          "base_uri": "https://localhost:8080/",
          "height": 34
        }
      },
      "source": [
        "enc_tag\n"
      ],
      "execution_count": null,
      "outputs": [
        {
          "output_type": "execute_result",
          "data": {
            "text/plain": [
              "LabelEncoder()"
            ]
          },
          "metadata": {
            "tags": []
          },
          "execution_count": 20
        }
      ]
    },
    {
      "cell_type": "code",
      "metadata": {
        "id": "1fpc7vWV3wGd",
        "outputId": "f5cdb002-b461-45ff-eb26-22009783f07a",
        "colab": {
          "base_uri": "https://localhost:8080/",
          "height": 164
        }
      },
      "source": [
        "test"
      ],
      "execution_count": null,
      "outputs": [
        {
          "output_type": "error",
          "ename": "NameError",
          "evalue": "ignored",
          "traceback": [
            "\u001b[0;31m---------------------------------------------------------------------------\u001b[0m",
            "\u001b[0;31mNameError\u001b[0m                                 Traceback (most recent call last)",
            "\u001b[0;32m<ipython-input-21-4e1243bd22c6>\u001b[0m in \u001b[0;36m<module>\u001b[0;34m()\u001b[0m\n\u001b[0;32m----> 1\u001b[0;31m \u001b[0mtest\u001b[0m\u001b[0;34m\u001b[0m\u001b[0;34m\u001b[0m\u001b[0m\n\u001b[0m",
            "\u001b[0;31mNameError\u001b[0m: name 'test' is not defined"
          ]
        }
      ]
    },
    {
      "cell_type": "code",
      "metadata": {
        "id": "C7ubMYil7LRR"
      },
      "source": [
        "meta_data = joblib.load('meta.bin')\n",
        "enc_pos = meta_data['enc_pos']\n",
        "enc_bems = meta_data['enc_bems']\n",
        "enc_tag = meta_data['enc_tag']\n",
        "\n",
        "num_tag = len(list(enc_tag.classes_))\n",
        "num_bems = len(list(enc_bems.classes_))\n",
        "num_pos = len(list(enc_pos.classes_))\n",
        "\n",
        "\n",
        "device = torch.device('cuda')\n",
        "# model = EntityModel(num_tag = num_tag, num_bems = num_bems, num_pos=num_pos)\n",
        "# model.load_state_dict(torch.load('trigger_model.bin'))\n",
        "model = torch.load('trigger_model.pt')\n",
        "model.to(device)\n",
        "\n",
        "ids = []\n",
        "news = []\n",
        "triggers = []\n",
        "for idx, item in test_data.iterrows():\n",
        "    # print(f\"processing No.{idx} of {len(test_data)}\")\n",
        "    sentence = item['news']\n",
        "    id = item['id']\n",
        "    encode_sentence = [TOKENIZER.encode(i,add_special_tokens=False) for i in sentence]\n",
        "    test = EntityDataset(\n",
        "        texts=[sentence],\n",
        "        pos=[[0] * len(sentence)],\n",
        "        bems=[[0] * len(sentence)],\n",
        "        tags=[[0] * len(sentence)]\n",
        "    )\n",
        "    with torch.no_grad():\n",
        "        data = test[0]\n",
        "        for k, v in data.items():\n",
        "            data[k] = v.to(device).unsqueeze(0)\n",
        "        tag, bems, pos, _ = model(**data)\n",
        "        #extract object\n",
        "\n",
        "        tags = tag.argmax(2).cpu().numpy()[0][1:len(encode_sentence)+1]\n",
        "        text = [word for word in sentence]\n",
        "        label_list = []\n",
        "        location_list = []\n",
        "        temp_idx = -1\n",
        "        for idx, (i,j) in enumerate(zip(tags,text)):\n",
        "            # if i == 1:\n",
        "            if i == 4:\n",
        "                temp = j\n",
        "                # start = idx\n",
        "                temp_idx = idx\n",
        "            # if i == 6 and temp_idx != -1:\n",
        "            if i == 9 and temp_idx != -1:\n",
        "                temp += j\n",
        "                temp_idx += 1\n",
        "            if i not in [4,9] and temp_idx != -1:\n",
        "                # temp = str(start)+temp\n",
        "                # temp = list(set(temp))\n",
        "                label_list.append(temp)\n",
        "                # location_list.append(temp_loc)\n",
        "                temp = ''\n",
        "                # start = -1\n",
        "                temp_idx = -1\n",
        "        ids.append(id)\n",
        "        news.append(sentence)\n",
        "        # label_list = list(set(label_list))\n",
        "        triggers.append(label_list)\n",
        "final = pd.DataFrame(zip(ids,news,triggers),columns=['id','news','trigger'])\n",
        "\n"
      ],
      "execution_count": null,
      "outputs": []
    },
    {
      "cell_type": "code",
      "metadata": {
        "id": "2r384yPMXqyt",
        "outputId": "0ea28848-708e-4545-fdc2-814f2c1b1557",
        "colab": {
          "base_uri": "https://localhost:8080/",
          "height": 204
        }
      },
      "source": [
        "final.head()"
      ],
      "execution_count": null,
      "outputs": [
        {
          "output_type": "execute_result",
          "data": {
            "text/html": [
              "<div>\n",
              "<style scoped>\n",
              "    .dataframe tbody tr th:only-of-type {\n",
              "        vertical-align: middle;\n",
              "    }\n",
              "\n",
              "    .dataframe tbody tr th {\n",
              "        vertical-align: top;\n",
              "    }\n",
              "\n",
              "    .dataframe thead th {\n",
              "        text-align: right;\n",
              "    }\n",
              "</style>\n",
              "<table border=\"1\" class=\"dataframe\">\n",
              "  <thead>\n",
              "    <tr style=\"text-align: right;\">\n",
              "      <th></th>\n",
              "      <th>id</th>\n",
              "      <th>news</th>\n",
              "      <th>trigger</th>\n",
              "    </tr>\n",
              "  </thead>\n",
              "  <tbody>\n",
              "    <tr>\n",
              "      <th>0</th>\n",
              "      <td>7953</td>\n",
              "      <td>此外，深航积极恢复湖北其他城市的航班运力，已于近日陆续恢复襄阳往返深圳、惠州、沈阳、珠海，宜...</td>\n",
              "      <td>[恢复, 恢复]</td>\n",
              "    </tr>\n",
              "    <tr>\n",
              "      <th>1</th>\n",
              "      <td>7955</td>\n",
              "      <td>同时，因其违反中国法律、法规规定，妨害社会管理，根据《出境入境管理法》第八十一条第一款，越秀...</td>\n",
              "      <td>[作出]</td>\n",
              "    </tr>\n",
              "    <tr>\n",
              "      <th>2</th>\n",
              "      <td>7956</td>\n",
              "      <td>2008年间，佛山市南海区某五金机械厂等8名合法债权人因与罗某丰所经营的某灯具公司发生买卖合...</td>\n",
              "      <td>[发生, 申请, 查封]</td>\n",
              "    </tr>\n",
              "    <tr>\n",
              "      <th>3</th>\n",
              "      <td>7959</td>\n",
              "      <td>广州男子涉嫌偷拍女同学发布淫秽信息，学校发声4月8日9时许，广州警方发布通报，经过缜密调查，...</td>\n",
              "      <td>[发布, 发布, 抓获]</td>\n",
              "    </tr>\n",
              "    <tr>\n",
              "      <th>4</th>\n",
              "      <td>7960</td>\n",
              "      <td>作为广东深圳一家节能企业的董事长，从1月29日开始，李海建便来到武汉参与医疗废弃物焚烧车间建设</td>\n",
              "      <td>[参与]</td>\n",
              "    </tr>\n",
              "  </tbody>\n",
              "</table>\n",
              "</div>"
            ],
            "text/plain": [
              "     id                                               news       trigger\n",
              "0  7953  此外，深航积极恢复湖北其他城市的航班运力，已于近日陆续恢复襄阳往返深圳、惠州、沈阳、珠海，宜...      [恢复, 恢复]\n",
              "1  7955  同时，因其违反中国法律、法规规定，妨害社会管理，根据《出境入境管理法》第八十一条第一款，越秀...          [作出]\n",
              "2  7956  2008年间，佛山市南海区某五金机械厂等8名合法债权人因与罗某丰所经营的某灯具公司发生买卖合...  [发生, 申请, 查封]\n",
              "3  7959  广州男子涉嫌偷拍女同学发布淫秽信息，学校发声4月8日9时许，广州警方发布通报，经过缜密调查，...  [发布, 发布, 抓获]\n",
              "4  7960    作为广东深圳一家节能企业的董事长，从1月29日开始，李海建便来到武汉参与医疗废弃物焚烧车间建设          [参与]"
            ]
          },
          "metadata": {
            "tags": []
          },
          "execution_count": 24
        }
      ]
    },
    {
      "cell_type": "code",
      "metadata": {
        "id": "n53QM0Q-KFQw"
      },
      "source": [
        "import pickle\n",
        "\n",
        "with open('triggers.pickle', 'wb') as handle:\n",
        "    pickle.dump(final, handle, protocol=pickle.HIGHEST_PROTOCOL)\n"
      ],
      "execution_count": null,
      "outputs": []
    },
    {
      "cell_type": "code",
      "metadata": {
        "id": "mHPy5s_m701F"
      },
      "source": [
        "import pickle\n",
        "\n",
        "with open('triggers.pickle', 'rb') as handle:\n",
        "    ff = pickle.load(handle)"
      ],
      "execution_count": null,
      "outputs": []
    },
    {
      "cell_type": "code",
      "metadata": {
        "id": "dx5jlE50GBh3"
      },
      "source": [
        "final.to_csv('final_object.csv')"
      ],
      "execution_count": null,
      "outputs": []
    },
    {
      "cell_type": "code",
      "metadata": {
        "id": "uHwNjCbjG_74",
        "outputId": "c1a09439-0336-4ea4-fb8e-297bd487b1ef",
        "colab": {
          "base_uri": "https://localhost:8080/",
          "height": 204
        }
      },
      "source": [
        "final.head()"
      ],
      "execution_count": null,
      "outputs": [
        {
          "output_type": "execute_result",
          "data": {
            "text/html": [
              "<div>\n",
              "<style scoped>\n",
              "    .dataframe tbody tr th:only-of-type {\n",
              "        vertical-align: middle;\n",
              "    }\n",
              "\n",
              "    .dataframe tbody tr th {\n",
              "        vertical-align: top;\n",
              "    }\n",
              "\n",
              "    .dataframe thead th {\n",
              "        text-align: right;\n",
              "    }\n",
              "</style>\n",
              "<table border=\"1\" class=\"dataframe\">\n",
              "  <thead>\n",
              "    <tr style=\"text-align: right;\">\n",
              "      <th></th>\n",
              "      <th>id</th>\n",
              "      <th>news</th>\n",
              "      <th>object</th>\n",
              "    </tr>\n",
              "  </thead>\n",
              "  <tbody>\n",
              "    <tr>\n",
              "      <th>0</th>\n",
              "      <td>7953</td>\n",
              "      <td>此外，深航积极恢复湖北其他城市的航班运力，已于近日陆续恢复襄阳往返深圳、惠州、沈阳、珠海，宜...</td>\n",
              "      <td>[深航]</td>\n",
              "    </tr>\n",
              "    <tr>\n",
              "      <th>1</th>\n",
              "      <td>7955</td>\n",
              "      <td>同时，因其违反中国法律、法规规定，妨害社会管理，根据《出境入境管理法》第八十一条第一款，越秀...</td>\n",
              "      <td>[越秀区公安分局]</td>\n",
              "    </tr>\n",
              "    <tr>\n",
              "      <th>2</th>\n",
              "      <td>7956</td>\n",
              "      <td>2008年间，佛山市南海区某五金机械厂等8名合法债权人因与罗某丰所经营的某灯具公司发生买卖合...</td>\n",
              "      <td>[佛山市南海区某五金机械厂等8名合法债权人]</td>\n",
              "    </tr>\n",
              "    <tr>\n",
              "      <th>3</th>\n",
              "      <td>7959</td>\n",
              "      <td>广州男子涉嫌偷拍女同学发布淫秽信息，学校发声4月8日9时许，广州警方发布通报，经过缜密调查，...</td>\n",
              "      <td>[广州男子, 广州警方, 广州白云警方]</td>\n",
              "    </tr>\n",
              "    <tr>\n",
              "      <th>4</th>\n",
              "      <td>7960</td>\n",
              "      <td>作为广东深圳一家节能企业的董事长，从1月29日开始，李海建便来到武汉参与医疗废弃物焚烧车间建设</td>\n",
              "      <td>[李海建]</td>\n",
              "    </tr>\n",
              "  </tbody>\n",
              "</table>\n",
              "</div>"
            ],
            "text/plain": [
              "     id  ...                  object\n",
              "0  7953  ...                    [深航]\n",
              "1  7955  ...               [越秀区公安分局]\n",
              "2  7956  ...  [佛山市南海区某五金机械厂等8名合法债权人]\n",
              "3  7959  ...    [广州男子, 广州警方, 广州白云警方]\n",
              "4  7960  ...                   [李海建]\n",
              "\n",
              "[5 rows x 3 columns]"
            ]
          },
          "metadata": {
            "tags": []
          },
          "execution_count": 48
        }
      ]
    },
    {
      "cell_type": "code",
      "metadata": {
        "id": "UldGjAnEcnWy"
      },
      "source": [
        ""
      ],
      "execution_count": null,
      "outputs": []
    }
  ]
}